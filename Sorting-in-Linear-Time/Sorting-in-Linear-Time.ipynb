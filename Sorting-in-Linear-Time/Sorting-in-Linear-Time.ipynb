{
 "cells": [
  {
   "cell_type": "markdown",
   "metadata": {},
   "source": [
    "# 计数排序"
   ]
  },
  {
   "cell_type": "markdown",
   "metadata": {},
   "source": [
    "对每一个输入元素$x$，确定小于$x$的元素个数后直接将$x$放在输出数据相应位置上。例如，如果有17个元素小于$x$，则$x$应该在第18个输出位置上。当有几个元素相同时，算法需要略做修改。\n",
    "\n",
    "假设输入是一个数组A[1..n]，A.length=n，还需要两个数组，B[1..n]存放排序输出，C[0..k]提供临时存储空间。"
   ]
  },
  {
   "cell_type": "code",
   "execution_count": 17,
   "metadata": {},
   "outputs": [],
   "source": [
    "def counting_sort(A, B, k):\n",
    "    n = len(A)\n",
    "    C = [0] * (k+1)\n",
    "    # 统计数组中各个元素的个数，存储于C中\n",
    "    for i in range(n):\n",
    "        C[A[i]] = C[A[i]] + 1\n",
    "    # 统计有多少个元素小于等于i\n",
    "    for i in range(1,k+1):\n",
    "        C[i] = C[i-1] + C[i]\n",
    "    # 将统计值放置在B的相应位置上，注意元素可能不都是互异的\n",
    "    # for i in range(n)是正确的，但不稳定\n",
    "    for i in reversed(range(n)):\n",
    "        B[C[A[i]]-1] = A[i]\n",
    "        C[A[i]] = C[A[i]] - 1"
   ]
  },
  {
   "cell_type": "code",
   "execution_count": 18,
   "metadata": {},
   "outputs": [
    {
     "name": "stdout",
     "output_type": "stream",
     "text": [
      "[0, 0, 2, 2, 3, 3, 3, 5]\n"
     ]
    }
   ],
   "source": [
    "A = [2,5,3,0,2,3,0,3]\n",
    "# A = [6,0,2,0,1,3,4,6,1,3,2]\n",
    "B = [0] * len(A)\n",
    "k = max(A)\n",
    "counting_sort(A,B,k)\n",
    "print B"
   ]
  },
  {
   "cell_type": "markdown",
   "metadata": {},
   "source": [
    "总的时间复杂度是$\\theta(k+n)$，当$k=O(n)$时，时间复杂度为$\\theta(n)$"
   ]
  },
  {
   "cell_type": "markdown",
   "metadata": {},
   "source": [
    "# 基数排序"
   ]
  },
  {
   "cell_type": "markdown",
   "metadata": {},
   "source": [
    "基数排序是先按最低有效位进行排序，然后对得到的每个容器递归的进行排序，最后再把所有结果合并起来。"
   ]
  },
  {
   "cell_type": "code",
   "execution_count": 3,
   "metadata": {},
   "outputs": [
    {
     "name": "stdout",
     "output_type": "stream",
     "text": [
      "\n"
     ]
    }
   ],
   "source": [
    "def radix_sort(A,d,r):    \n",
    "    for k in xrange(d):\n",
    "        s=[[] for i in xrange(r)]\n",
    "        for num in A:\n",
    "            s[num/(r**k)%r].append(num)\n",
    "        A=[num for bucket in s for num in bucket]\n",
    "    return A"
   ]
  },
  {
   "cell_type": "code",
   "execution_count": 4,
   "metadata": {},
   "outputs": [
    {
     "name": "stdout",
     "output_type": "stream",
     "text": [
      "Radix Sorted: [329, 355, 436, 457, 657, 720, 839]\n"
     ]
    }
   ],
   "source": [
    "A=[329,457,657,839,436,720,355]\n",
    "print 'Radix Sorted:', radix_sort(A,3,10)"
   ]
  },
  {
   "cell_type": "markdown",
   "metadata": {},
   "source": [
    "时间复杂度：$\\theta(n)$"
   ]
  },
  {
   "cell_type": "markdown",
   "metadata": {},
   "source": [
    "# 桶排序"
   ]
  },
  {
   "cell_type": "markdown",
   "metadata": {},
   "source": [
    "假设输入数据服从均匀分布，桶排序将\\[0,1\\)的区间划分为$n$个相同大小的子区间，或称为桶。然后将$n$个输入数分别放在各个桶中。因为输入数据是均匀、独立地分布的，一般不会出现很多数据落在同一个桶中的情况。为了得到输出结果，我们先对每个桶中的数进行排序，然后遍历每个桶，按照次序把各个桶中的元素列出来即可。"
   ]
  },
  {
   "cell_type": "code",
   "execution_count": 58,
   "metadata": {},
   "outputs": [
    {
     "name": "stdout",
     "output_type": "stream",
     "text": [
      "\n"
     ]
    }
   ],
   "source": [
    "def bucket_sort(A, left_bound, right_bound):\n",
    "    n = len(A)\n",
    "    B = [[] for _ in range(n)]\n",
    "    for num in A:\n",
    "        B[int((num - left_bound) / (right_bound - left_bound) * n)].append(num)\n",
    "    for bucket in B:\n",
    "        bucket.sort()\n",
    "    return [num for bucket in B for num in bucket]"
   ]
  },
  {
   "cell_type": "code",
   "execution_count": 60,
   "metadata": {},
   "outputs": [
    {
     "name": "stdout",
     "output_type": "stream",
     "text": [
      " Bucket Sorted: [0.12, 0.17, 0.21, 0.23, 0.26, 0.39, 0.68, 0.72, 0.78, 0.94]\n"
     ]
    }
   ],
   "source": [
    "A=[.78,.17,.39,.26,.72,.94,.21,.12,.23,.68]\n",
    "print 'Bucket Sorted:', bucket_sort(A,0,1)"
   ]
  },
  {
   "cell_type": "markdown",
   "metadata": {},
   "source": [
    "平均时间复杂度: $\\theta(n)$，最坏时间复杂度: $\\theta(n^2)$ (当所有元素都落在同一个桶时)"
   ]
  }
 ],
 "metadata": {
  "kernelspec": {
   "display_name": "Python 2",
   "language": "python",
   "name": "python2"
  },
  "language_info": {
   "codemirror_mode": {
    "name": "ipython",
    "version": 2
   },
   "file_extension": ".py",
   "mimetype": "text/x-python",
   "name": "python",
   "nbconvert_exporter": "python",
   "pygments_lexer": "ipython2",
   "version": "2.7.10"
  }
 },
 "nbformat": 4,
 "nbformat_minor": 2
}
