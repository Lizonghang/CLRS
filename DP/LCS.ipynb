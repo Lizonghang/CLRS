{
 "cells": [
  {
   "cell_type": "markdown",
   "metadata": {},
   "source": [
    "# 最长公共子序列\n",
    "\n",
    "给定两个序列$X$和$Y$,如果$Z$既是$X$的子序列,也是$Y$的子序列,则称$Z$为$X$和$Y$的公共子序列。例如,如果$X=<A,B,C,B,D,A,B>$,$Y=<B,D,C,A,B,A>$,那么序列$<B,C,A>$就是$X$和$Y$的公共子序列,但它不是$X$和$Y$的最长公共子序列,因为子序列$<B,C,B,A>$的序列长度更长。**最长公共子序列问题（Longest Common Subsequence Problem）**给定两个序列$X=<x_1,x_2,...,x_m>$和$Y=<y_1,y_2,...,y_n>$,求$X$和$Y$长度最长的公共子序列。"
   ]
  },
  {
   "cell_type": "markdown",
   "metadata": {},
   "source": [
    "## LCS的最优子结构\n",
    "\n",
    "LCS问题具有最优子结构性质。定义前缀为:给定一个序列$X=<x_1,x_2,...,x_m>$,对$i=0,1,...,m$,定义$X$的第$i$前缀为$X_i=<x_1,x_2,...,x_i>$。例如，若$X=<A,B,C,B,D,A,B>$,则$X_4=<A,B,C,B>$,$X_0$为空串。\n",
    "\n",
    "**定理 (LCS的最优子结构)** 令$X=<x_1,x_2,...,x_m>$和$Y=<y_1,y_2,...,y_n>$为两个序列，$Z=<z_1,z_2,...,z_k>$为$X$和$Y$的任意LCS。\n",
    "1. 如果$x_m=y_n$,则$z_k=x_m=y_n$且$Z_{k-1}$是$X_{m-1}$和$Y_{n-1}$的一个LCS。\n",
    "2. 如果$x_m≠y_n$,那么$z_k≠x_m$意味着$Z$是$X_{m-1}$和$Y$的一个LCS。\n",
    "3. 如果$x_m≠y_n$,那么$z_k≠y_n$意味着$Z$是$X$和$Y_{n-1}$的一个LCS。"
   ]
  },
  {
   "cell_type": "markdown",
   "metadata": {},
   "source": [
    "## LCS的重叠子问题\n",
    "\n",
    "LCS问题具有重叠子问题性质。为了求$X$和$Y$的一个LCS,我们可能需要求$X$和$Y_{n-1}$的一个LCS及$X_{m-1}$和$Y$的一个LCS。但是这几个子问题都包含求解$X_{m-1}$和$Y_{n-1}$的LCS的子子问题,很多其他子问题也都共享子子问题。\n",
    "\n",
    "我们定义$c[i,j]$表示$X_i$和$Y_j$的LCS长度,如果$i=0$或$j=0$,即一个序列长度为0,那么LCS的长度为0。根据LCS问题的最优子结构性质可得如下公式:\n",
    "\n",
    "$$c[i,j]=\\begin{cases} 0\\quad\\quad\\quad\\quad\\quad\\quad\\quad\\quad\\quad\\quad 若i=0或j=0 \\\\ c[i-1,j-1]+1\\quad\\quad\\quad\\quad 若i,j>0且{ x }_{ i }={ y }_{ j } \\\\ max(c[i,j-1],c[i-1,j])\\quad 若i,j>0且{ x }_{ i }\\neq { y }_{ j } \\end{cases}$$"
   ]
  },
  {
   "cell_type": "markdown",
   "metadata": {},
   "source": [
    "## 动态规划自底向上计算LCS"
   ]
  },
  {
   "cell_type": "code",
   "execution_count": 1,
   "metadata": {},
   "outputs": [],
   "source": [
    "import numpy as np\n",
    "\n",
    "def LCS_LENGTH(X, Y):\n",
    "    m = len(X)\n",
    "    n = len(Y)\n",
    "    b = np.zeros((m+1, n+1))\n",
    "    c = np.zeros((m+1, n+1))\n",
    "    for i in range(1, m+1):\n",
    "        for j in range(1, n+1):\n",
    "            if X[i-1] == Y[j-1]:\n",
    "                c[i,j] = c[i-1,j-1]+1\n",
    "                b[i,j] = 0\n",
    "            elif c[i-1,j] >= c[i,j-1]:\n",
    "                c[i,j] = c[i-1,j]\n",
    "                b[i,j] = 1\n",
    "            else:\n",
    "                c[i,j] = c[i,j-1]\n",
    "                b[i,j] = 2\n",
    "    return c, b"
   ]
  },
  {
   "cell_type": "markdown",
   "metadata": {},
   "source": [
    "## 构造LCS\n",
    "\n",
    "我们可以用$LCS-LENGTH$返回的表$b$快速构造LCS,从$b[m,n]$开始,遇到0时转到左上角,遇到1时转到上方,遇到2时转到左方。当遇到0时，意味着$x_i=y_j$是LCS的一个元素。我们可以按逆序依次构造出LCS的所有元素。"
   ]
  },
  {
   "cell_type": "code",
   "execution_count": 2,
   "metadata": {},
   "outputs": [],
   "source": [
    "def PRINT_LCS(b, X, i, j):\n",
    "    if i == 0 or j == 0:\n",
    "        return\n",
    "    if b[i,j] == 0:\n",
    "        PRINT_LCS(b, X, i-1, j-1)\n",
    "        print(X[i-1]),\n",
    "    elif b[i,j] == 1:\n",
    "        PRINT_LCS(b, X, i-1, j)\n",
    "    else:\n",
    "        PRINT_LCS(b, X, i, j-1)"
   ]
  },
  {
   "cell_type": "markdown",
   "metadata": {},
   "source": [
    "## 算法测试"
   ]
  },
  {
   "cell_type": "code",
   "execution_count": 3,
   "metadata": {},
   "outputs": [
    {
     "name": "stdout",
     "output_type": "stream",
     "text": [
      "LCS = 20\n",
      "LCS is [ G T C G T C G G A A G C C G G C C G A A ]\n"
     ]
    }
   ],
   "source": [
    "X = \"ACCGGTCGAGTGCGCGGAAGCCGGCCGAA\"\n",
    "Y = \"GTCGTTCGGAATGCCGTTGCTCTGTAAA\"\n",
    "c, b = LCS_LENGTH(X,Y)\n",
    "print(\"LCS = %d\" % c[-1,-1])\n",
    "m, n = len(X), len(Y)\n",
    "print(\"LCS is [\"), \n",
    "PRINT_LCS(b, X, m, n)\n",
    "print(\"]\")"
   ]
  }
 ],
 "metadata": {
  "kernelspec": {
   "display_name": "Python 2",
   "language": "python",
   "name": "python2"
  },
  "language_info": {
   "codemirror_mode": {
    "name": "ipython",
    "version": 2
   },
   "file_extension": ".py",
   "mimetype": "text/x-python",
   "name": "python",
   "nbconvert_exporter": "python",
   "pygments_lexer": "ipython2",
   "version": "2.7.10"
  }
 },
 "nbformat": 4,
 "nbformat_minor": 2
}
