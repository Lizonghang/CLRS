{
 "cells": [
  {
   "cell_type": "markdown",
   "metadata": {},
   "source": [
    "##  字典树\n",
    "\n",
    "给定两个串a=a<sub>0</sub>a<sub>1</sub>···a<sub>p</sub>和b=b<sub>0</sub>b<sub>1</sub>···b<sub>q</sub>，这里每个a<sub>i</sub>和b<sub>j</sub>是以字符集的某种次序出现的，如果下面两种规则之一成立，就称串a**按字典序小于(lexicographically)**串b：\n",
    "\n",
    "1. 存在一个整数j，其中0 ≤ j ≤ min(p,q)，使得对所有的i=0,1,···,j-1，a<sub>i</sub> = b<sub>i</sub>成立，且a<sub>j</sub> < b<sub>j</sub>。\n",
    "2. p < q，且对所有的i=0,1,···,p,a<sub>i</sub> = b<sub>i</sub>。\n",
    "\n",
    "例如，如果a和b是位串，那么10100<10110，10100<101000，类似于字符串排序。\n",
    "\n",
    "**基数树(Radix Tree)**数据结构如下图所示，这个树存储了位串1011、10、011、100和0。当对一个关键字a=a<sub>0</sub>a<sub>1</sub>···a<sub>p</sub>进行查找时，在深度为i的一个结点处，如果a<sub>i</sub> = 0则走左侧；如果a<sub>i</sub> = 1则走右侧。\n",
    "\n",
    "<img src=\"41EAAEDF-BEDC-4B6F-B101-BDF23BEED262.png\" width=\"600px\" />"
   ]
  },
  {
   "cell_type": "code",
   "execution_count": 21,
   "metadata": {},
   "outputs": [],
   "source": [
    "class Node:\n",
    "    def __init__(self):\n",
    "        self.data = {}\n",
    "        self.is_word = False\n",
    "\n",
    "class Trie:\n",
    "    def __init__(self):\n",
    "        self.root = Node()\n",
    "    \n",
    "    def insert(self, s):\n",
    "        p = self.root\n",
    "        for c in s:\n",
    "            if not p.data.has_key(c):\n",
    "                p.data[c] = Node()\n",
    "            p = p.data[c]\n",
    "        p.is_word = True\n",
    "    \n",
    "    def search(self, s):\n",
    "        p = self.root\n",
    "        for c in s:\n",
    "            p = p.data.get(c)\n",
    "            if not p:\n",
    "                return False\n",
    "        return p.is_word\n",
    "\n",
    "    def get_start_with(self, prefix):\n",
    "        p = self.root\n",
    "        for c in prefix:\n",
    "            p = p.data.get(c)\n",
    "            if not p:\n",
    "                return []\n",
    "        return self._get_common_prefix_keys(prefix, p)\n",
    "    \n",
    "    def _get_common_prefix_keys(self, prefix, p):\n",
    "        words = []\n",
    "        if p.is_word:\n",
    "            words.append(prefix)\n",
    "        for next_c in p.data.keys():\n",
    "            words += self._get_common_prefix_keys(prefix + next_c, p.data[next_c])\n",
    "        return words\n",
    "\n",
    "    def dict_sort(self, p, prefix):\n",
    "        if p:\n",
    "            if p.is_word:\n",
    "                print prefix,\n",
    "            for c in sorted(p.data.keys()):\n",
    "                self.dict_sort(p.data.get(c), prefix+c)"
   ]
  },
  {
   "cell_type": "code",
   "execution_count": 28,
   "metadata": {},
   "outputs": [
    {
     "name": "stdout",
     "output_type": "stream",
     "text": [
      "Search[10]: True\n",
      "Find string starts with[10]:  ['10', '1011', '100']\n",
      "Dict sort: 0 011 10 100 1011\n"
     ]
    }
   ],
   "source": [
    "# Example 1\n",
    "trie = Trie()\n",
    "trie.insert('1011')\n",
    "trie.insert('10')\n",
    "trie.insert('011')\n",
    "trie.insert('100')\n",
    "trie.insert('0')\n",
    "print 'Search[10]:', trie.search('10')\n",
    "print 'Find string starts with[10]: ', trie.get_start_with('10')\n",
    "print 'Dict sort:', \n",
    "trie.dict_sort(trie.root, '')"
   ]
  },
  {
   "cell_type": "code",
   "execution_count": 29,
   "metadata": {},
   "outputs": [
    {
     "name": "stdout",
     "output_type": "stream",
     "text": [
      "Search[abnormal]: True\n",
      "Find string starts with[some]: ['some', 'sometimes', 'something']\n",
      "Dict sort: a abnormal absolute australia nothing some something sometimes thanks\n"
     ]
    }
   ],
   "source": [
    "# Example 2\n",
    "trie = Trie()\n",
    "trie.insert('some')\n",
    "trie.insert('sometimes')\n",
    "trie.insert('something')\n",
    "trie.insert('thanks')\n",
    "trie.insert('nothing')\n",
    "trie.insert('a')\n",
    "trie.insert('abnormal')\n",
    "trie.insert('absolute')\n",
    "trie.insert('australia')\n",
    "print 'Search[abnormal]:', trie.search('abnormal')\n",
    "print 'Find string starts with[some]:', trie.get_start_with('some')\n",
    "print 'Dict sort:',\n",
    "trie.dict_sort(trie.root, '')"
   ]
  },
  {
   "cell_type": "markdown",
   "metadata": {},
   "source": [
    "**优点**\n",
    "\n",
    "利用字符串的公共前缀来减少查询时间，最大限度地减少无谓的字符串比较，查询效率比哈希树高。典型应用是用于统计，排序和保存大量的字符串（但不仅限于字符串），所以经常被搜索引擎系统用于文本词频统计。\n",
    "\n",
    "与哈希表相比有如下优点：\n",
    "\n",
    "1. 最坏情况下时间复杂度比hash好。\n",
    "2. 没有冲突，除非一个key对应多个卫星数据。\n",
    "3. 使用前序遍历可在O(n)得到字典排序。\n",
    "\n",
    "**缺点**\n",
    "\n",
    "1. Trie是一个以空间换时间的算法，每个结点可能有字符集数量个子树。\n",
    "2. 以查找操作为例，如果数据存储于外部存储器等IO较慢位置，Trie相比hash速度慢，hash访问O(1)次外存，Trie访问O(lgn)次外存。\n",
    "3. 长字符串会让树高很大。"
   ]
  }
 ],
 "metadata": {
  "kernelspec": {
   "display_name": "Python 2",
   "language": "python",
   "name": "python2"
  },
  "language_info": {
   "codemirror_mode": {
    "name": "ipython",
    "version": 2
   },
   "file_extension": ".py",
   "mimetype": "text/x-python",
   "name": "python",
   "nbconvert_exporter": "python",
   "pygments_lexer": "ipython2",
   "version": "2.7.10"
  }
 },
 "nbformat": 4,
 "nbformat_minor": 2
}
