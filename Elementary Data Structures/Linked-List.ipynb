{
 "cells": [
  {
   "cell_type": "markdown",
   "metadata": {},
   "source": [
    "# Linked lists"
   ]
  },
  {
   "cell_type": "code",
   "execution_count": 3,
   "metadata": {},
   "outputs": [],
   "source": [
    "class Node:\n",
    "    def __init__(self, key):\n",
    "        self.key = key\n",
    "        self.prev = None\n",
    "        self.next = None"
   ]
  },
  {
   "cell_type": "markdown",
   "metadata": {},
   "source": [
    "1.无哨兵非循环双向链表"
   ]
  },
  {
   "cell_type": "markdown",
   "metadata": {},
   "source": [
    "![](fig1.png)"
   ]
  },
  {
   "cell_type": "code",
   "execution_count": 40,
   "metadata": {},
   "outputs": [],
   "source": [
    "class LinkedList:\n",
    "    def __init__(self):\n",
    "        self.head = None\n",
    "        self.tail = None\n",
    "    \n",
    "    def __str__(self):\n",
    "        l = []\n",
    "        x = self.head\n",
    "        while x != None:\n",
    "            l.append(x.key)\n",
    "            x = x.next    \n",
    "        return str(l)\n",
    "    \n",
    "    def search(self, key):\n",
    "        x = self.head\n",
    "        while x != None and x.key != key:\n",
    "            x = x.next\n",
    "        return x\n",
    "    \n",
    "    # Insert Front\n",
    "    def insert(self, x):\n",
    "        x.next = self.head\n",
    "        if self.head != None:\n",
    "            self.head.prev = x\n",
    "        self.head = x\n",
    "        x.prev = None\n",
    "    \n",
    "    def delete(self, x):\n",
    "        if x.prev != None:\n",
    "            x.prev.next = x.next\n",
    "        else:\n",
    "            self.head = x.next\n",
    "        if x.next != None:\n",
    "            x.next.prev = x.prev"
   ]
  },
  {
   "cell_type": "markdown",
   "metadata": {},
   "source": [
    "2.有哨兵循环双向链表"
   ]
  },
  {
   "cell_type": "markdown",
   "metadata": {},
   "source": [
    "哨兵基本不能降低数据结构相关操作的渐进时间界，但可以降低常数因子。在循环语句中使用哨兵的好处往往在于可以使代码简洁，而非提高速度。举例来说，使用哨兵使链表的代码变得简洁了，但在LIST-INSERT'和LIST-DELETE'过程上仅节约了O(1)的时间，在循环语句中降低了$n$或$n^2$等项的系数。"
   ]
  },
  {
   "cell_type": "markdown",
   "metadata": {},
   "source": [
    "![](fig2.png)"
   ]
  },
  {
   "cell_type": "code",
   "execution_count": 13,
   "metadata": {},
   "outputs": [],
   "source": [
    "class LinkedList:\n",
    "    def __init__(self):\n",
    "        self.NIL = Node(None) # Sentinel\n",
    "        self.NIL.next = self.NIL\n",
    "        self.NIL.prev = self.NIL\n",
    "    \n",
    "    def __str__(self):\n",
    "        l = []\n",
    "        x = self.NIL.next\n",
    "        while x != self.NIL:\n",
    "            l.append(x.key)\n",
    "            x = x.next    \n",
    "        return str(l)\n",
    "    \n",
    "    def search(self, key):\n",
    "        x = self.NIL.next\n",
    "        while x != self.NIL and x.key != key:\n",
    "            x = x.next\n",
    "        return x\n",
    "    \n",
    "    # Insert Front\n",
    "    def insert(self, x):\n",
    "        x.next = self.NIL.next\n",
    "        self.NIL.next.prev = x        \n",
    "        self.NIL.next = x\n",
    "        x.prev = self.NIL\n",
    "    \n",
    "    def delete(self, x):\n",
    "        x.prev.next = x.next\n",
    "        x.next.prev = x.prev"
   ]
  },
  {
   "cell_type": "code",
   "execution_count": 16,
   "metadata": {},
   "outputs": [
    {
     "name": "stdout",
     "output_type": "stream",
     "text": [
      "Insert 1 2 3:\n",
      "[3, 2, 1]\n",
      "\n",
      "Search for 2:\n",
      "<__main__.Node instance at 0x10677a3b0>\n",
      "\n",
      "Delete 3:\n",
      "[2, 1]\n"
     ]
    }
   ],
   "source": [
    "L = LinkedList()\n",
    "x1 = Node(1)\n",
    "x2 = Node(2)\n",
    "x3 = Node(3)\n",
    "L.insert(x1)\n",
    "L.insert(x2)\n",
    "L.insert(x3)\n",
    "print 'Insert 1 2 3:'\n",
    "print L\n",
    "print\n",
    "print 'Search for 2:'\n",
    "print L.search(2)\n",
    "L.delete(x3)\n",
    "print\n",
    "print 'Delete 3:'\n",
    "print L"
   ]
  }
 ],
 "metadata": {
  "kernelspec": {
   "display_name": "Python 2",
   "language": "python",
   "name": "python2"
  },
  "language_info": {
   "codemirror_mode": {
    "name": "ipython",
    "version": 2
   },
   "file_extension": ".py",
   "mimetype": "text/x-python",
   "name": "python",
   "nbconvert_exporter": "python",
   "pygments_lexer": "ipython2",
   "version": "2.7.10"
  }
 },
 "nbformat": 4,
 "nbformat_minor": 2
}
