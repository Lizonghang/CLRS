{
 "cells": [
  {
   "cell_type": "markdown",
   "metadata": {},
   "source": [
    "# 7-4 快速排序的栈深度"
   ]
  },
  {
   "cell_type": "code",
   "execution_count": 2,
   "metadata": {},
   "outputs": [],
   "source": [
    "def partition(A, p, r):\n",
    "    i = p - 1\n",
    "    for j in range(p, r):\n",
    "        if A[j] < A[r]:\n",
    "            i += 1\n",
    "            A[i], A[j] = A[j], A[i]\n",
    "    A[i+1], A[r] = A[r], A[i+1]\n",
    "    return i + 1"
   ]
  },
  {
   "cell_type": "code",
   "execution_count": 3,
   "metadata": {},
   "outputs": [],
   "source": [
    "# 尾递归\n",
    "def tail_recursive_quicksort(A,p,r):\n",
    "    while p < r:\n",
    "        # Partition and sort left subarray\n",
    "        q = partition(A,p,r)\n",
    "        tail_recursive_quicksort(A,p,q-1)\n",
    "        p = q + 1"
   ]
  },
  {
   "cell_type": "code",
   "execution_count": 14,
   "metadata": {},
   "outputs": [
    {
     "name": "stdout",
     "output_type": "stream",
     "text": [
      "5\n",
      "[1, 2, 3, 4, 5, 6, 7, 8]\n"
     ]
    }
   ],
   "source": [
    "A = [2,8,7,1,3,5,6,4]\n",
    "tail_recursive_quicksort(A, 0, len(A)-1)\n",
    "print A"
   ]
  },
  {
   "cell_type": "code",
   "execution_count": null,
   "metadata": {},
   "outputs": [],
   "source": [
    "# NOTE: NOT VALID CODE BLOCK\n",
    "\n",
    "INPUT: A = [2,8,7,1,3,5,6,4]\n",
    "p1 = 0, r1 = 7\n",
    "0 < 7:\n",
    "    q1 = 3, A1 = [2, 1, 3, 4, 7, 5, 6, 8]\n",
    "    p2 = 0, r2 = 2\n",
    "    0 < 2:\n",
    "        q2 = 2, A2 = [2, 1, 3, 4, 7, 5, 6, 8]\n",
    "        p3 = 0, r3 = 1\n",
    "        0 < 1:\n",
    "            q3 = 0, A3 = [1, 2, 3, 4, 7, 5, 6, 8]\n",
    "            p4 = 0, r4 = -1\n",
    "            0 < -1:\n",
    "                return\n",
    "            p3 = 1\n",
    "        1 < 1:\n",
    "            return\n",
    "        p2 = 3\n",
    "    3 < 2: \n",
    "        return\n",
    "    p1 = 4\n",
    "4 < 7:\n",
    "    q1 = 7, A1 = [1, 2, 3, 4, 7, 5, 6, 8]\n",
    "    p2 = 4, r2 = 6\n",
    "    4 < 6:\n",
    "        q2 = 5, A2 = [1, 2, 3, 4, 5, 6, 7, 8]\n",
    "        p3 = 4, r3 = 4\n",
    "        4 < 4:\n",
    "            return\n",
    "        p2 = 6\n",
    "    6 < 6:\n",
    "        return\n",
    "    p1 = 8\n",
    "8 < 7:\n",
    "    return\n",
    "\n",
    "OUTPUT: A = [1, 2, 3, 4, 5, 6, 7, 8]"
   ]
  },
  {
   "cell_type": "markdown",
   "metadata": {},
   "source": [
    "a. 证明: tail_recursive_quicksort能正确地对数组A进行排序。"
   ]
  },
  {
   "cell_type": "markdown",
   "metadata": {},
   "source": [
    "算法中tail_recursive_quicksort(A,p,q-1)和快速排序中quicksort(A,p,q-1)是一样的，调用PARTITION后，递归调用了左边的子数组；通过$p=q+1$，并经过循环，对右边的子数组进行了快速排序操作，与递归调用快速排序是一样的，所以能正确的对数组A进行排序。"
   ]
  },
  {
   "cell_type": "markdown",
   "metadata": {},
   "source": [
    "编译器通常使用栈来存储递归执行过程中的相关信息，假设数组参数是用指针指示的，每次过程调用只需要$O(1)$的栈空间。栈深度是在一次计算中会用到的栈空间的最大值。"
   ]
  },
  {
   "cell_type": "markdown",
   "metadata": {},
   "source": [
    "b. 请描述一种场景, 使得针对一个包含$n$个元素数组的tail_recursive_quicksort的栈深度是$\\theta(n)$。"
   ]
  },
  {
   "cell_type": "markdown",
   "metadata": {},
   "source": [
    "当输入的数组是有序的，每次partition划分后的划分路径为一条链，一共会递归调用$n-1$次，栈深度为$\\theta(n)$。"
   ]
  },
  {
   "cell_type": "markdown",
   "metadata": {},
   "source": [
    "c. 修改tail_recursive_quicksort的代码，使其最坏情况下栈深度是$\\theta(\\lg n)$，并且能够保持$O(n\\lg n)$的期望时间复杂度。"
   ]
  },
  {
   "cell_type": "markdown",
   "metadata": {},
   "source": [
    "Note: return quicksort(A, p, r)"
   ]
  }
 ],
 "metadata": {
  "kernelspec": {
   "display_name": "Python 2",
   "language": "python",
   "name": "python2"
  },
  "language_info": {
   "codemirror_mode": {
    "name": "ipython",
    "version": 2
   },
   "file_extension": ".py",
   "mimetype": "text/x-python",
   "name": "python",
   "nbconvert_exporter": "python",
   "pygments_lexer": "ipython2",
   "version": "2.7.10"
  }
 },
 "nbformat": 4,
 "nbformat_minor": 2
}
