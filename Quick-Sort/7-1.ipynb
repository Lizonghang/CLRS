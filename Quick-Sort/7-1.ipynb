{
 "cells": [
  {
   "cell_type": "markdown",
   "metadata": {},
   "source": [
    "# 7-1 Hoare划分的正确性"
   ]
  },
  {
   "cell_type": "code",
   "execution_count": 5,
   "metadata": {},
   "outputs": [],
   "source": [
    "def hoare_partition(A, p, r):\n",
    "    x = A[p]\n",
    "    i = p - 1\n",
    "    j = r + 1\n",
    "    while True:\n",
    "        while True:\n",
    "            j -= 1\n",
    "            if A[j] <= x:\n",
    "                break\n",
    "        while True:\n",
    "            i += 1\n",
    "            if A[i] >= x:\n",
    "                break\n",
    "        if i < j:\n",
    "            A[i], A[j] = A[j], A[i]\n",
    "        else:\n",
    "            return j"
   ]
  },
  {
   "cell_type": "code",
   "execution_count": 3,
   "metadata": {},
   "outputs": [],
   "source": [
    "# 另一个hoare-quicksort版本\n",
    "def hoare_partition(A, p, r):\n",
    "    x = A[p]\n",
    "    i = p\n",
    "    j = r\n",
    "    while i < j:\n",
    "        while A[j] >= x and i < j:\n",
    "            j -= 1\n",
    "        while A[i] <= x and i < j:\n",
    "            i += 1\n",
    "        if i < j:\n",
    "            A[i], A[j] = A[j], A[i]\n",
    "    A[j], A[p] = A[p], A[j]\n",
    "    return j"
   ]
  },
  {
   "cell_type": "code",
   "execution_count": 7,
   "metadata": {},
   "outputs": [
    {
     "name": "stdout",
     "output_type": "stream",
     "text": [
      "[6, 2, 9, 5, 12, 8, 7, 4, 11, 19, 13, 21]\n"
     ]
    }
   ],
   "source": [
    "A = [13, 19, 9, 5, 12, 8, 7, 4, 11, 2, 6, 21]\n",
    "hoare_partition(A, 0, len(A)-1)\n",
    "print A"
   ]
  },
  {
   "cell_type": "markdown",
   "metadata": {},
   "source": [
    "a. hoare_partition在数组[13, 19, 9, 5, 12, 8, 7, 4, 11, 2, 6, 21]上的操作过程。 略"
   ]
  },
  {
   "cell_type": "markdown",
   "metadata": {},
   "source": [
    "假设子数组A[p..r]至少包含2个元素，试论证以下问题："
   ]
  },
  {
   "cell_type": "markdown",
   "metadata": {},
   "source": [
    "b. 下标$i$和$j$可以使我们不会访问在子数组A[p..r]以外的数组A的元素。\n",
    "\n",
    "$i=p$是递增的，$j=r$是递减的，每个操作都要求$i<j$否则程序结束，因此$i$、$j$的范围被约束在$[p,r]$之间。"
   ]
  },
  {
   "cell_type": "markdown",
   "metadata": {},
   "source": [
    "c. 当hoare_partition结束时，它返回的值$j$满足$p\\le j\\lt r$。"
   ]
  },
  {
   "cell_type": "markdown",
   "metadata": {},
   "source": [
    "Q: 返回的值$j$满足$p\\le j\\le r$"
   ]
  },
  {
   "cell_type": "markdown",
   "metadata": {},
   "source": [
    "d. 当hoare_partition结束时，A[p..j]中的每一个元素都小于或等于A[j+1..r]中的元素。"
   ]
  },
  {
   "cell_type": "markdown",
   "metadata": {},
   "source": [
    "第一个内层循环的作用是找到数组右半部分大于主元的位置$j$，第二个内层循环的作用是找到数组左半部分小于主元的位置$i$。随后位置$j$的元素A[j]和位置$i$的元素A[i]互换，这样循环数次后，左半部分都大于主元，右半部分都小于主元，完成了划分。"
   ]
  },
  {
   "cell_type": "markdown",
   "metadata": {},
   "source": [
    "e. 利用hoare_partition，重写quicksort算法。"
   ]
  },
  {
   "cell_type": "code",
   "execution_count": 55,
   "metadata": {},
   "outputs": [],
   "source": [
    "def hoare_quicksort(A, p, r):\n",
    "    if p < r:\n",
    "        q = hoare_partition(A, p, r)\n",
    "        hoare_quicksort(A, p, q)\n",
    "        hoare_quicksort(A, q+1, r)"
   ]
  },
  {
   "cell_type": "code",
   "execution_count": 57,
   "metadata": {},
   "outputs": [
    {
     "name": "stdout",
     "output_type": "stream",
     "text": [
      "[1, 1, 2, 2, 3, 3, 4, 4, 5, 5]\n"
     ]
    }
   ],
   "source": [
    "A = [13, 19, 9, 5, 12, 8, 7, 4, 11, 2, 6, 21]\n",
    "# A = [5,5,4,4,3,3,2,2,1,1]\n",
    "hoare_quicksort(A, 0, len(A)-1)\n",
    "print A"
   ]
  }
 ],
 "metadata": {
  "kernelspec": {
   "display_name": "Python 2",
   "language": "python",
   "name": "python2"
  },
  "language_info": {
   "codemirror_mode": {
    "name": "ipython",
    "version": 2
   },
   "file_extension": ".py",
   "mimetype": "text/x-python",
   "name": "python",
   "nbconvert_exporter": "python",
   "pygments_lexer": "ipython2",
   "version": "2.7.10"
  }
 },
 "nbformat": 4,
 "nbformat_minor": 2
}
