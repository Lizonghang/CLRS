{
 "cells": [
  {
   "cell_type": "markdown",
   "metadata": {},
   "source": [
    "# 快速排序"
   ]
  },
  {
   "cell_type": "markdown",
   "metadata": {},
   "source": [
    "数组<code>A[p..r]</code>被划分为两个（可能为空）子数组<code>A[p..q-1]</code>和<code>A[q+1..r]</code>，使得<code>A[p..q-1]</code>中的每一个元素都小于等于<code>A[q]</code>，而<code>A[q]</code>也小于等于<code>A[q+1..r]</code>中的每一个元素。其中计算<code>q</code>是划分过程的一部分。因为子数组都是原址排序的，所以不需要合并操作，数组<code>A[p..r]</code>已经有序。"
   ]
  },
  {
   "cell_type": "code",
   "execution_count": 9,
   "metadata": {},
   "outputs": [],
   "source": [
    "def partition(A, p, r):\n",
    "    i = p - 1\n",
    "    for j in range(p, r):\n",
    "        if A[j] < A[r]:\n",
    "            i += 1\n",
    "            A[i], A[j] = A[j], A[i]\n",
    "    A[i+1], A[r] = A[r], A[i+1]\n",
    "    return i + 1"
   ]
  },
  {
   "cell_type": "code",
   "execution_count": 10,
   "metadata": {},
   "outputs": [],
   "source": [
    "def quicksort(A, p, r):\n",
    "    if p < r:\n",
    "        q = partition(A, p, r)\n",
    "        quicksort(A, p, q-1)\n",
    "        quicksort(A, q+1, r)"
   ]
  },
  {
   "cell_type": "code",
   "execution_count": 11,
   "metadata": {},
   "outputs": [
    {
     "name": "stdout",
     "output_type": "stream",
     "text": [
      "[1, 2, 3, 4, 5, 6, 7, 8]\n"
     ]
    }
   ],
   "source": [
    "A = [2,8,7,1,3,5,6,4]\n",
    "quicksort(A, 0, len(A)-1)\n",
    "print A"
   ]
  },
  {
   "cell_type": "markdown",
   "metadata": {},
   "source": [
    "![](fig7-1.png)"
   ]
  },
  {
   "cell_type": "markdown",
   "metadata": {},
   "source": [
    "时间复杂度：最坏情况复杂度<code>θ(n^2)</code>，期望时间复杂度<code>θ(nlgn)</code>"
   ]
  },
  {
   "cell_type": "markdown",
   "metadata": {},
   "source": [
    "# 快速排序的随机化版本"
   ]
  },
  {
   "cell_type": "markdown",
   "metadata": {},
   "source": [
    "随机化版本从A[p..r]中随机选择一个元素作为主元，即从A[p..r]中随机抽样一个元素与A[r]进行交换。因为主元是随机选取的，我们期望在平均情况下对输入数组的划分是比较均衡的。"
   ]
  },
  {
   "cell_type": "code",
   "execution_count": 12,
   "metadata": {},
   "outputs": [],
   "source": [
    "import random\n",
    "\n",
    "def randomized_partition(A,p,r):\n",
    "    i = random.choice(range(p,r+1))\n",
    "    A[i], A[r] = A[r], A[i]\n",
    "    return partition(A,p,r)"
   ]
  },
  {
   "cell_type": "code",
   "execution_count": 13,
   "metadata": {},
   "outputs": [],
   "source": [
    "def randomized_quicksort(A,p,r):\n",
    "    if p < r:\n",
    "        q = randomized_partition(A,p,r)\n",
    "        randomized_quicksort(A,p,q-1)\n",
    "        randomized_quicksort(A,q+1,r)"
   ]
  },
  {
   "cell_type": "code",
   "execution_count": 22,
   "metadata": {},
   "outputs": [
    {
     "name": "stdout",
     "output_type": "stream",
     "text": [
      "Quick-Sort: 0.0225171205997 seconds\n",
      "Randomized Quick-Sort: 0.00136492991447 seconds\n"
     ]
    }
   ],
   "source": [
    "import time\n",
    "\n",
    "A = range(500)\n",
    "\n",
    "normal = []\n",
    "randomized = []\n",
    "\n",
    "for i in range(1000):\n",
    "    start = time.time()\n",
    "    quicksort(A[:],0,len(A)-1)\n",
    "    normal.append(time.time() - start)\n",
    "\n",
    "    start = time.time()\n",
    "    randomized_quicksort(A[:],0,len(A)-1)\n",
    "    randomized.append(time.time() - start)\n",
    "    \n",
    "print 'Quick-Sort: {} seconds'.format(sum(normal) / len(normal))\n",
    "print 'Randomized Quick-Sort: {} seconds'.format(sum(randomized) / len(randomized))"
   ]
  }
 ],
 "metadata": {
  "kernelspec": {
   "display_name": "Python 2",
   "language": "python",
   "name": "python2"
  },
  "language_info": {
   "codemirror_mode": {
    "name": "ipython",
    "version": 2
   },
   "file_extension": ".py",
   "mimetype": "text/x-python",
   "name": "python",
   "nbconvert_exporter": "python",
   "pygments_lexer": "ipython2",
   "version": "2.7.10"
  }
 },
 "nbformat": 4,
 "nbformat_minor": 2
}
