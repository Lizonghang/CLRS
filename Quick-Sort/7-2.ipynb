{
 "cells": [
  {
   "cell_type": "markdown",
   "metadata": {},
   "source": [
    "# 7-2 针对相同元素值的快速排序"
   ]
  },
  {
   "cell_type": "markdown",
   "metadata": {},
   "source": [
    "a. 如果所有输入元素的值都相同，那么随机化快速排序的运行时间会是多少。     $\\theta(n^2)$"
   ]
  },
  {
   "cell_type": "markdown",
   "metadata": {},
   "source": [
    "b. partition_(A,p,r)排列A[p..r]的元素，返回值是两个数组下标$q$和$t$，其中$p\\le q\\le t\\le r$，且有:\n",
    "\n",
    "* A[q..t]中所有元素相等。\n",
    "* A[p..q-1]中每个元素都小于A[q]。\n",
    "* A[t+1..r]中每个元素都大于A[q]。\n",
    "\n",
    "构造partition_的时间复杂度为$\\theta(r-p)$"
   ]
  },
  {
   "cell_type": "code",
   "execution_count": 1,
   "metadata": {},
   "outputs": [],
   "source": [
    "def partition_(A,p,r):\n",
    "    x = A[r]\n",
    "    i = p\n",
    "    t = r\n",
    "    j = p\n",
    "    while j <= t:\n",
    "        if A[j] > x:\n",
    "            A[j], A[t] = A[t], A[j]\n",
    "            t -= 1\n",
    "        elif A[j] < x:\n",
    "            A[i], A[j] = A[j], A[i]\n",
    "            i += 1\n",
    "            j += 1\n",
    "        else:\n",
    "            j += 1\n",
    "    return i,j-1"
   ]
  },
  {
   "cell_type": "code",
   "execution_count": null,
   "metadata": {},
   "outputs": [],
   "source": [
    "# NOTE: NOT VALID CODE BLOCK\n",
    "# Initial\n",
    "A=[13,19,12,12,9,5,12]\n",
    "p=0,r=6\n",
    "x=12\n",
    "i=0\n",
    "t=6\n",
    "j=0\n",
    "\n",
    "# Loop\n",
    "0 <= 6:\n",
    "    13 > 12:\n",
    "        A = [12,19,12,12,9,5,13]\n",
    "        t = 5\n",
    "\n",
    "0 <= 5:\n",
    "    12 == 12:\n",
    "        j = 1\n",
    "\n",
    "1 <= 5:\n",
    "    19 > 12:\n",
    "        A = [12,5,12,12,9,19,13]\n",
    "        t = 4\n",
    "\n",
    "1 <= 4:\n",
    "    5 < 12:\n",
    "        A = [5,12,12,12,9,19,13]\n",
    "        i = 1\n",
    "        j = 2\n",
    "\n",
    "2 <= 4:\n",
    "    12 == 12\n",
    "        j = 3\n",
    "\n",
    "3 <= 4\n",
    "    12 == 12\n",
    "        j = 4\n",
    "\n",
    "4 <= 4\n",
    "    9 < 12:\n",
    "        A = [5,9,12,12,12,19,13]\n",
    "        i = 2\n",
    "        j = 5\n",
    "# End of Loop\n",
    "\n",
    "return 2,4"
   ]
  },
  {
   "cell_type": "code",
   "execution_count": 19,
   "metadata": {},
   "outputs": [
    {
     "name": "stdout",
     "output_type": "stream",
     "text": [
      "q = 2, t = 4\n",
      "A = [5, 9, 12, 12, 12, 19, 13]\n",
      "A[0:q-1] = [5, 9]\n",
      "A[q:t] = [12, 12, 12]\n",
      "A[t+1:A.length] = [19, 13]\n"
     ]
    }
   ],
   "source": [
    "A = [13, 19, 12, 12, 9, 5, 12]\n",
    "q,t = partition_(A, 0, len(A)-1)\n",
    "print 'q = %s, t = %s' % (q,t)\n",
    "print 'A =', A\n",
    "print 'A[0:q-1] =', A[0:q]\n",
    "print 'A[q:t] =', A[q:t+1]\n",
    "print 'A[t+1:A.length] =', A[t+1:]"
   ]
  },
  {
   "cell_type": "markdown",
   "metadata": {},
   "source": [
    "c. 定义randomized\\_partition\\_与randomized\\_quicksort\\_，只有分区内的元素**不都相同**的时候才做递归调用。"
   ]
  },
  {
   "cell_type": "code",
   "execution_count": 5,
   "metadata": {},
   "outputs": [],
   "source": [
    "import random\n",
    "\n",
    "def randomized_partition_(A,p,r):\n",
    "    i = random.choice(range(p,r+1))\n",
    "    A[i], A[r] = A[r], A[i]\n",
    "    return partition_(A,p,r)\n",
    "\n",
    "def randomized_quicksort_(A,p,r):\n",
    "    if p < r:\n",
    "        q,t = randomized_partition_(A,p,r)\n",
    "        randomized_quicksort_(A,p,q-1)\n",
    "        randomized_quicksort_(A,q+1,r)"
   ]
  },
  {
   "cell_type": "code",
   "execution_count": 6,
   "metadata": {},
   "outputs": [
    {
     "name": "stdout",
     "output_type": "stream",
     "text": [
      "[5, 9, 12, 12, 12, 13, 19]\n"
     ]
    }
   ],
   "source": [
    "A = [13, 19, 12, 12, 9, 5, 12]\n",
    "randomized_quicksort_(A,0,len(A)-1)\n",
    "print A"
   ]
  },
  {
   "cell_type": "markdown",
   "metadata": {},
   "source": [
    "d. 在randomized\\_quicksort\\_中，应该如何改变7.4.2节中的分析方法，从而避免所有元素都是互异的这一假设? (NOTE)"
   ]
  },
  {
   "cell_type": "markdown",
   "metadata": {},
   "source": [
    "将$Z_{ij}=\\{z_{i}, z_{i+1}, ..., z_{j}\\}$中$z_i$定义为数组A中第$i$小的元素中的一个，则:\n",
    "\n",
    "$$Pr\\{zi与zj进行比较\\}=\\frac{n_{z_i}}{n_{ij}}+\\frac{n_{z_j}}{n_{ij}}\\le\\frac{2}{j−i+1}$$\n",
    "\n",
    "之后分析相同。"
   ]
  }
 ],
 "metadata": {
  "kernelspec": {
   "display_name": "Python 2",
   "language": "python",
   "name": "python2"
  },
  "language_info": {
   "codemirror_mode": {
    "name": "ipython",
    "version": 2
   },
   "file_extension": ".py",
   "mimetype": "text/x-python",
   "name": "python",
   "nbconvert_exporter": "python",
   "pygments_lexer": "ipython2",
   "version": "2.7.10"
  }
 },
 "nbformat": 4,
 "nbformat_minor": 2
}
