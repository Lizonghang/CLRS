{
 "cells": [
  {
   "cell_type": "markdown",
   "metadata": {},
   "source": [
    "# 7.2-1"
   ]
  },
  {
   "cell_type": "markdown",
   "metadata": {},
   "source": [
    "### 利用代入法证明: 递归式$T(n)=T(n-1)+θ(n)$的解为$T(n)=\\theta(n^2)$"
   ]
  },
  {
   "cell_type": "markdown",
   "metadata": {},
   "source": [
    "**代入法**求解递归式分为两步：\n",
    "\n",
    "1. 猜测解的形式。\n",
    "2. 用数学归纳法求出解中的常数，并证明解是正确的。"
   ]
  },
  {
   "cell_type": "markdown",
   "metadata": {},
   "source": [
    "首先猜测其解为$T(n)=\\theta(n^2)$，即有$T(n)=cn^2$，代入递推式可得：\n",
    "\n",
    "\\begin{align}\n",
    "T(n)&=T(n-1)+\\theta(n)\\\\\n",
    "&=c(n-1)^2+n\\\\\n",
    "&=cn^2+(1-2c)n+c\\\\\n",
    "&\\le cn^2\n",
    "\\end{align}\n",
    "\n",
    "当满足$n>0, c\\ge 1$时上式成立。因为: 令$f(c,n)=(1-2c)n+c$分别对$c$和$n$求导数得：\n",
    "\n",
    "\\begin{align}\n",
    "&f(1,1)=0\\\\\n",
    "&\\frac{\\partial f}{\\partial c}=1-2n<0\\\\\n",
    "&\\frac{\\partial f}{\\partial n}=1-2c<0\n",
    "\\end{align}\n",
    "\n",
    "因此$f(c,n)\\le 0$恒成立，式$T(n)\\le cn^2$恒成立。因此$T(n)=\\theta(n^2)$。"
   ]
  },
  {
   "cell_type": "markdown",
   "metadata": {},
   "source": [
    "# 7.2-2"
   ]
  },
  {
   "cell_type": "markdown",
   "metadata": {},
   "source": [
    "### 当数组A的所有元素都具有相同值时，quicksort的时间复杂度是什么？"
   ]
  },
  {
   "cell_type": "markdown",
   "metadata": {},
   "source": [
    "1. 每次划分都有$\\theta(n)$的时间复杂度(partition函数)。\n",
    "2. 当数组中所有元素都相同时，每次划分元素的索引都是第一个元素，A[p..q-1]为空，A[q+1..r]为剩下的$n-1$个元素。因此树变成了一条链，深度为$n-1$，即总共需要经过$n-1$次划分。\n",
    "\n",
    "因此在这种情况下quicksort的时间复杂度为: $(n-1)\\theta(n)=\\theta(n^2)$"
   ]
  },
  {
   "cell_type": "markdown",
   "metadata": {},
   "source": [
    "# 7.2-3"
   ]
  },
  {
   "cell_type": "markdown",
   "metadata": {},
   "source": [
    "### 证明: 当数组A包含的元素不同，并且是按降序排列的时候，quicksort的时间复杂度为$\\theta(n^2)$"
   ]
  },
  {
   "cell_type": "markdown",
   "metadata": {},
   "source": [
    "举个例子，A=[5,4,3,2,1]\n",
    "\n",
    "第1次划分: q=0, A[p..q-1]=**null**, A[q+1..r]=[4,3,2,5]\n",
    "\n",
    "第2次划分: q=3, A[p..q-1]=[4,3,2], A[q+1..r]=**null**\n",
    "\n",
    "第3次划分: q=0, A[p..q-1]=**null**, A[q+1..r]=[3,4]\n",
    "\n",
    "第4次划分: q=1, A[p..q-1]=3, A[q+1..r]=**null**\n",
    "\n",
    "可以看出，每一次划分都会产生一个空集，意味着整个划分的路径实际上是一条链。总共会经过$n-1$次划分，每次划分需要$\\theta(n)$的时间复杂度，因此总的时间复杂度为$\\theta(n^2)$。"
   ]
  },
  {
   "cell_type": "markdown",
   "metadata": {},
   "source": [
    "# 7.2-4"
   ]
  },
  {
   "cell_type": "markdown",
   "metadata": {},
   "source": [
    "### 证明在给定情景下insertion-sort的性能往往要优于quicksort"
   ]
  },
  {
   "cell_type": "markdown",
   "metadata": {},
   "source": [
    "|交易时间|支票编号|\n",
    "|---|:-:|\n",
    "|20170926|99|\n",
    "|20170826|76|\n",
    "|20170726|54|\n",
    "|20170626|30|\n",
    "|20170526|22|\n",
    "|20170426|14|\n",
    "|20170326|9|\n",
    "|20170226|5|\n",
    "|20170126|1|\n",
    "\n",
    "问题本质:将一个按照时间正序表示的数组变成按照支票编号进行升序排列的数组，即将数组 A=[1,5,9,14,22,30,54,76,99] 通过quicksort和insertion-sort再进行升序排序，并证明使用insertion-sort的性能更好。"
   ]
  },
  {
   "cell_type": "code",
   "execution_count": 21,
   "metadata": {},
   "outputs": [],
   "source": [
    "def insertion_sort(A):\n",
    "    for j in range(1, len(A)):\n",
    "        key = A[j]\n",
    "        # Insert A[j] into the sorted sequence A[1..j-1]\n",
    "        i = j - 1\n",
    "        while i >= 0 and A[i] > key:\n",
    "            A[i+1] = A[i]\n",
    "            i -= 1\n",
    "        A[i+1] = key"
   ]
  },
  {
   "cell_type": "markdown",
   "metadata": {},
   "source": [
    "![](fig2-2.png)"
   ]
  },
  {
   "cell_type": "code",
   "execution_count": 22,
   "metadata": {},
   "outputs": [],
   "source": [
    "def partition(A, p, r):\n",
    "    i = p - 1\n",
    "    for j in range(p, r):\n",
    "        if A[j] < A[r]:\n",
    "            i += 1\n",
    "            A[i], A[j] = A[j], A[i]\n",
    "    A[i+1], A[r] = A[r], A[i+1]\n",
    "    return i + 1\n",
    "\n",
    "def quick_sort(A, p, r):\n",
    "    if p < r:\n",
    "        q = partition(A, p, r)\n",
    "        quick_sort(A, p, q-1)\n",
    "        quick_sort(A, q+1, r)"
   ]
  },
  {
   "cell_type": "code",
   "execution_count": 26,
   "metadata": {},
   "outputs": [
    {
     "name": "stdout",
     "output_type": "stream",
     "text": [
      "Quick-Sort average time: 2.13489532471e-05\n",
      "Insertion-Sort average time: 3.75080108643e-06\n"
     ]
    }
   ],
   "source": [
    "import time\n",
    "\n",
    "quick_sort_time = []\n",
    "insertion_sort_time = []\n",
    "\n",
    "A = [1,5,9,14,22,30,54,76,99]\n",
    "\n",
    "for i in range(1000):\n",
    "    start = time.time()\n",
    "    quick_sort(A[:], 0, len(A)-1)\n",
    "    quick_sort_time.append(time.time() - start)\n",
    "    \n",
    "    start = time.time()\n",
    "    insertion_sort(A[:])\n",
    "    insertion_sort_time.append(time.time() - start)\n",
    "\n",
    "print 'Quick-Sort average time:', sum(quick_sort_time) / len(quick_sort_time)\n",
    "print 'Insertion-Sort average time:', sum(insertion_sort_time) / len(insertion_sort_time)"
   ]
  },
  {
   "cell_type": "markdown",
   "metadata": {},
   "source": [
    "实验结果: 反复运行1000次quicksort和insertion-sort，发现insertion-sort的平均耗时比quicksort少十倍左右。"
   ]
  },
  {
   "cell_type": "markdown",
   "metadata": {},
   "source": [
    "分析：对于一个已经排好序的数组，使用insertion-sort不需要移动任何数据，程序的实际运行效果如下，时间复杂度仅为$O(n)$："
   ]
  },
  {
   "cell_type": "code",
   "execution_count": null,
   "metadata": {},
   "outputs": [],
   "source": [
    "def insertion_sort(A):\n",
    "    for j in range(1, len(A)):\n",
    "        pass  # Do nothing"
   ]
  },
  {
   "cell_type": "markdown",
   "metadata": {},
   "source": [
    "若使用quicksort，其运行过程如下：\n",
    "\n",
    "A = [1,5,9,14,22,30,54,76,99]\n",
    "\n",
    "第1次划分: q=8, A[p..q-1]=[1,5,9,14,22,30,54,76], A[q+1..r]=**null**\n",
    "\n",
    "第2次划分: q=7, A[p..q-1]=[1,5,9,14,22,30,54], A[q+1..r]=**null**\n",
    "\n",
    "第3次划分: q=6, A[p..q-1]=[1,5,9,14,22,30], A[q+1..r]=**null**\n",
    "\n",
    "第4次划分: q=5, A[p..q-1]=[1,5,9,14,22], A[q+1..r]=**null**\n",
    "\n",
    "...\n",
    "\n",
    "第7次划分: q=2, A[p..q-1]=[1,5], A[q+1..r]=**null**\n",
    "\n",
    "第8次划分: q=1, A[p..q-1]=[1], A[q+1..r]=**null**\n",
    "\n",
    "可见该划分路径实际上是一条链，需要进行$\\theta(n)$次划分，每次划分需要$\\theta(n)$复杂度。因此quicksort总的时间复杂度为$\\theta(n^2)$。"
   ]
  },
  {
   "cell_type": "markdown",
   "metadata": {},
   "source": [
    "# 7.2-5"
   ]
  },
  {
   "cell_type": "markdown",
   "metadata": {},
   "source": [
    "### 假设快速排序的每一层所作的划分的比例都是$1-\\alpha:\\alpha$，其中$0<\\alpha \\le 1/2$且是一个常数。试证明: 在相应的递归树中，叶结点的最小深度大约是$-lgn/lg\\alpha$，最大深度大约是$-lgn/lg(1-\\alpha)$（无需考虑整数舍入问题）。"
   ]
  },
  {
   "cell_type": "markdown",
   "metadata": {},
   "source": [
    "根据换底公式，叶结点的最小深度是$\\log _{a^{-1}}{n}$，最大深度是$\\log _{{(1-a)}^{-1}}{n}$。$\\alpha =0.1$时划分树如下："
   ]
  },
  {
   "cell_type": "markdown",
   "metadata": {},
   "source": [
    "![](fig7-4.png)"
   ]
  },
  {
   "cell_type": "markdown",
   "metadata": {},
   "source": [
    "分析: 假设最小深度为$h_{min}$，最大深度为$h_{max}$。\n",
    "\n",
    "在最小深度路径上，每次划分，元素的数量按$\\alpha$比例减少，最终叶子结点处元素个数为1，即:\n",
    "\n",
    "\\begin{align}\n",
    "&n*\\alpha^{h_{min}}=1\\\\\n",
    "\\Rightarrow\\ &\\alpha^{h_{min}}=\\frac{1}{n}\\\\\n",
    "\\Rightarrow\\ &h_{min}\\log _{2}{\\alpha}=\\log _{2}{\\frac{1}{n}}\\\\\n",
    "\\Rightarrow\\ &h_{min}=-\\frac{\\lg{n}}{\\lg{\\alpha}}=-\\log _{\\alpha}{n}=\\log _{{\\alpha}^{-1}}{n}\n",
    "\\end{align}\n",
    "\n",
    "类似地，在最大深度路径上，每次划分，元素的数量按$1-\\alpha$比例减少，最终叶子结点处元素个数为1，即:\n",
    "\n",
    "\\begin{align}\n",
    "&n*(1-\\alpha)^{h_{max}}=1\\\\\n",
    "\\Rightarrow\\ &(1-\\alpha)^{h_{max}}=\\frac{1}{n}\\\\\n",
    "\\Rightarrow\\ &h_{max}\\log _{2}{(1-\\alpha)}=\\log _{2}{\\frac{1}{n}}\\\\\n",
    "\\Rightarrow\\ &h_{max}=-\\frac{\\lg{n}}{\\lg{(1-\\alpha)}}=-\\log _{(1-\\alpha)}{n}=\\log _{{(1-\\alpha)}^{-1}}{n}\n",
    "\\end{align}"
   ]
  },
  {
   "cell_type": "markdown",
   "metadata": {},
   "source": [
    "# 7.2-6"
   ]
  },
  {
   "cell_type": "markdown",
   "metadata": {},
   "source": [
    "### 试证明: 在一个随机输入数组上，对于任何常数$0<\\alpha \\le 1/2$，partition产生比$1-\\alpha : \\alpha$更平衡的划分的概率约为$1-2\\alpha$"
   ]
  },
  {
   "cell_type": "markdown",
   "metadata": {},
   "source": [
    "设X,Y分别为按照比例$1-\\alpha:\\alpha$划分的两个子集的元素数量(忽略A[q])，且$X+Y=n$。\n",
    "\n",
    "根据\"平衡\"的定义，当$|X-Y|\\rightarrow 0$时，划分越平衡；当$|X-Y|$越大时，划分越不平衡。\n",
    "\n",
    "比$1-\\alpha:\\alpha$更平衡的划分应该满足:\n",
    "\n",
    "\\begin{align}\n",
    "\\alpha n < X < (1-\\alpha)n\\\\\n",
    "\\alpha n < Y < (1-\\alpha)n\n",
    "\\end{align}\n",
    "\n",
    "则使得$|X-Y|$划分更平衡的数量差范围为: \n",
    "\n",
    "\\begin{align}\n",
    "0 \\le |X-Y| < n - 2\\alpha n \n",
    "\\end{align}\n",
    "\n",
    "概率为:\n",
    "\n",
    "\\begin{align}\n",
    "0 \\le \\frac {|X-Y|}{n} < 1 - 2\\alpha \n",
    "\\end{align}"
   ]
  }
 ],
 "metadata": {
  "kernelspec": {
   "display_name": "Python 2",
   "language": "python",
   "name": "python2"
  },
  "language_info": {
   "codemirror_mode": {
    "name": "ipython",
    "version": 2
   },
   "file_extension": ".py",
   "mimetype": "text/x-python",
   "name": "python",
   "nbconvert_exporter": "python",
   "pygments_lexer": "ipython2",
   "version": "2.7.10"
  }
 },
 "nbformat": 4,
 "nbformat_minor": 2
}
