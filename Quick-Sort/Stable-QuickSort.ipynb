{
 "cells": [
  {
   "cell_type": "markdown",
   "metadata": {},
   "source": [
    "# 不稳定的快速排序"
   ]
  },
  {
   "cell_type": "markdown",
   "metadata": {},
   "source": [
    "例子：初始化的数组为[5,7,7,1,1]，如下所示：\n",
    "\n",
    "|Index|0|1|2|3|4|\n",
    "|---|---|---|---|---|---|\n",
    "|Value|5|7|7|1|1|\n",
    "\n",
    "选择A[4]=1作为主元，最终经过函数partition操作后数组变为: [1,1,5,7,7]，如下所示：\n",
    "\n",
    "|Index|3|4|2|0|1|\n",
    "|---|---|---|---|---|---|\n",
    "|Value|1|1|7|5|7|\n",
    "\n",
    "一对7的相对位置发生了改变，说明快速排序是不稳定的。"
   ]
  },
  {
   "cell_type": "markdown",
   "metadata": {},
   "source": [
    "# 不稳定性的原因"
   ]
  },
  {
   "cell_type": "markdown",
   "metadata": {},
   "source": [
    "快速排序算法中能改变元素位置的操作只有元素的位置互换，partition操作中两个元素互换的操作都可能导致相同元素相对位置的改变。"
   ]
  },
  {
   "cell_type": "markdown",
   "metadata": {},
   "source": [
    "# 基于快速排序并保证稳定性的预处理方式"
   ]
  },
  {
   "cell_type": "code",
   "execution_count": 5,
   "metadata": {},
   "outputs": [
    {
     "name": "stdout",
     "output_type": "stream",
     "text": [
      "[1, 1, 5, 7, 7]\n"
     ]
    }
   ],
   "source": [
    "def partition(A, p, r):\n",
    "    i = p - 1\n",
    "    for j in range(p, r):\n",
    "        if A[j] < A[r]:\n",
    "            i += 1\n",
    "            A[i], A[j] = A[j], A[i]\n",
    "    A[i+1], A[r] = A[r], A[i+1]\n",
    "    return i + 1\n",
    "\n",
    "def quicksort(A, p, r):\n",
    "    if p < r:\n",
    "        q = partition(A, p, r)\n",
    "        quicksort(A, p, q-1)\n",
    "        quicksort(A, q+1, r)\n",
    "        \n",
    "def main(A):\n",
    "    d = {}\n",
    "    for num in A:\n",
    "        if d.has_key(num):\n",
    "            d[num].append(num)\n",
    "        else:\n",
    "            d[num] = [num]\n",
    "    A_group = d.keys()\n",
    "    quicksort(A_group,0,len(A_group)-1)\n",
    "    result = []\n",
    "    for num in A_group:\n",
    "        result += d[num]\n",
    "    return result\n",
    "\n",
    "A = [5,7,7,1,1]\n",
    "print main(A)"
   ]
  },
  {
   "cell_type": "markdown",
   "metadata": {},
   "source": [
    "思路：\n",
    "\n",
    "1. 以[1,1,5,7,7]为例，建立一个数值到列表的映射，如：\n",
    "\n",
    "```\n",
    "{\n",
    "    1: [1,1],\n",
    "    5: [5],\n",
    "    7: [7,7]\n",
    "}\n",
    "```\n",
    "\n",
    "可以保证每一个列表中的元素虽然值相同，但相对位置保持不变。\n",
    "\n",
    "2. 取该字典的key值使用quicksort进行排序后，得到有序的\"数值群\"，A_group=[1,5,7]。\n",
    "\n",
    "3. 将A_group中每个值映射的列表按序拼接，最终将得到一个稳定的排序结果。"
   ]
  },
  {
   "cell_type": "markdown",
   "metadata": {},
   "source": [
    "复杂度分析:\n",
    "\n",
    "1. 建立从数值到列表的映射(想方法使用O(1)映射)，实际上是遍历一次整个数组，时间复杂度为$O(n)$。\n",
    "2. quicksort排序，时间复杂度为$O(n\\lg {n})$。\n",
    "3. 值到列表的映射与拼接，映射的时间复杂度为$O(1)$，拼接的时间复杂度为$O(n)$，因此该步时间复杂度为$O(n)$。\n",
    "\n",
    "总的时间复杂度为: $O(n\\lg {n})$。算法的复杂度不受影响，但使用了额外的空间。"
   ]
  }
 ],
 "metadata": {
  "kernelspec": {
   "display_name": "Python 2",
   "language": "python",
   "name": "python2"
  },
  "language_info": {
   "codemirror_mode": {
    "name": "ipython",
    "version": 2
   },
   "file_extension": ".py",
   "mimetype": "text/x-python",
   "name": "python",
   "nbconvert_exporter": "python",
   "pygments_lexer": "ipython2",
   "version": "2.7.10"
  }
 },
 "nbformat": 4,
 "nbformat_minor": 2
}
