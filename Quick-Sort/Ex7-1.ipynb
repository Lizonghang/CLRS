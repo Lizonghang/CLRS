{
 "cells": [
  {
   "cell_type": "markdown",
   "metadata": {},
   "source": [
    "# 7.1-1"
   ]
  },
  {
   "cell_type": "markdown",
   "metadata": {},
   "source": [
    "### 说明partition在数组(13,19,9,5,12,8,7,4,21,2,6,11)上的操作过程"
   ]
  },
  {
   "cell_type": "code",
   "execution_count": 9,
   "metadata": {},
   "outputs": [],
   "source": [
    "def partition(A, p, r):\n",
    "    print 'Origin Array:', A\n",
    "    i = p - 1\n",
    "    print 'Initial i =', i\n",
    "    print 'Loop j from {} to {}'.format(p, r-1)\n",
    "    for j in range(p, r):\n",
    "        print 'Current j =', j\n",
    "        flag = False\n",
    "        if A[j] < A[r]:\n",
    "            print 'A[{}]={} < A[{}]={}'.format(j,A[j],r,A[r])\n",
    "            i += 1\n",
    "            print 'Move i to', i\n",
    "            A[i], A[j] = A[j], A[i]\n",
    "            print 'Exchange A[{}]={} with A[{}]={}'.format(i,A[i],j,A[j])\n",
    "            print 'Now A seems like:', A\n",
    "            flag = True\n",
    "        if not flag:\n",
    "            print 'A[{}]={} > A[{}]={}, no operation'.format(j,A[j],r,A[r])\n",
    "    print 'Now j comes to r-1, exchange A[{}] with A[{}]'.format(i+1,r)\n",
    "    A[i+1], A[r] = A[r], A[i+1]\n",
    "    print 'Finally A seems like', A\n",
    "    print 'A[{}]={} is the partition'.format(i+1,A[i+1])\n",
    "    return i + 1"
   ]
  },
  {
   "cell_type": "code",
   "execution_count": 10,
   "metadata": {},
   "outputs": [
    {
     "name": "stdout",
     "output_type": "stream",
     "text": [
      "Origin Array: [13, 19, 9, 5, 12, 8, 7, 4, 21, 2, 6, 11]\n",
      "Initial i = -1\n",
      "Loop j from 0 to 10\n",
      "Current j = 0\n",
      "A[0]=13 > A[11]=11, no operation\n",
      "Current j = 1\n",
      "A[1]=19 > A[11]=11, no operation\n",
      "Current j = 2\n",
      "A[2]=9 < A[11]=11\n",
      "Move i to 0\n",
      "Exchange A[0]=9 with A[2]=13\n",
      "Now A seems like: [9, 19, 13, 5, 12, 8, 7, 4, 21, 2, 6, 11]\n",
      "Current j = 3\n",
      "A[3]=5 < A[11]=11\n",
      "Move i to 1\n",
      "Exchange A[1]=5 with A[3]=19\n",
      "Now A seems like: [9, 5, 13, 19, 12, 8, 7, 4, 21, 2, 6, 11]\n",
      "Current j = 4\n",
      "A[4]=12 > A[11]=11, no operation\n",
      "Current j = 5\n",
      "A[5]=8 < A[11]=11\n",
      "Move i to 2\n",
      "Exchange A[2]=8 with A[5]=13\n",
      "Now A seems like: [9, 5, 8, 19, 12, 13, 7, 4, 21, 2, 6, 11]\n",
      "Current j = 6\n",
      "A[6]=7 < A[11]=11\n",
      "Move i to 3\n",
      "Exchange A[3]=7 with A[6]=19\n",
      "Now A seems like: [9, 5, 8, 7, 12, 13, 19, 4, 21, 2, 6, 11]\n",
      "Current j = 7\n",
      "A[7]=4 < A[11]=11\n",
      "Move i to 4\n",
      "Exchange A[4]=4 with A[7]=12\n",
      "Now A seems like: [9, 5, 8, 7, 4, 13, 19, 12, 21, 2, 6, 11]\n",
      "Current j = 8\n",
      "A[8]=21 > A[11]=11, no operation\n",
      "Current j = 9\n",
      "A[9]=2 < A[11]=11\n",
      "Move i to 5\n",
      "Exchange A[5]=2 with A[9]=13\n",
      "Now A seems like: [9, 5, 8, 7, 4, 2, 19, 12, 21, 13, 6, 11]\n",
      "Current j = 10\n",
      "A[10]=6 < A[11]=11\n",
      "Move i to 6\n",
      "Exchange A[6]=6 with A[10]=19\n",
      "Now A seems like: [9, 5, 8, 7, 4, 2, 6, 12, 21, 13, 19, 11]\n",
      "Now j comes to r-1, exchange A[7] with A[11]\n",
      "Finally A seems like [9, 5, 8, 7, 4, 2, 6, 11, 21, 13, 19, 12]\n",
      "A[7]=11 is the partition\n"
     ]
    },
    {
     "data": {
      "text/plain": [
       "7"
      ]
     },
     "execution_count": 10,
     "metadata": {},
     "output_type": "execute_result"
    }
   ],
   "source": [
    "A = [13,19,9,5,12,8,7,4,21,2,6,11]\n",
    "partition(A, 0, len(A)-1)"
   ]
  },
  {
   "cell_type": "markdown",
   "metadata": {},
   "source": [
    "# 7.1-2"
   ]
  },
  {
   "cell_type": "markdown",
   "metadata": {},
   "source": [
    "### 当数组A[p..r]中的元素都相同时，partition返回的q值是什么？修改partition，使得当数组A[p..r]中的元素都相同时，q=ceil((p+r)/2)"
   ]
  },
  {
   "cell_type": "code",
   "execution_count": 11,
   "metadata": {},
   "outputs": [],
   "source": [
    "def partition(A, p, r):\n",
    "    i = p - 1\n",
    "    for j in range(p, r):\n",
    "        if A[j] < A[r]:\n",
    "            i += 1\n",
    "            A[i], A[j] = A[j], A[i]\n",
    "    A[i+1], A[r] = A[r], A[i+1]\n",
    "    return i + 1"
   ]
  },
  {
   "cell_type": "code",
   "execution_count": 12,
   "metadata": {},
   "outputs": [
    {
     "name": "stdout",
     "output_type": "stream",
     "text": [
      "0\n"
     ]
    }
   ],
   "source": [
    "A = [1,1,1,1,1]\n",
    "print partition(A, 0, len(A)-1)"
   ]
  },
  {
   "cell_type": "markdown",
   "metadata": {},
   "source": [
    "使用min和max判断数组元素是否相同。"
   ]
  },
  {
   "cell_type": "markdown",
   "metadata": {},
   "source": [
    "# 7.1-3"
   ]
  },
  {
   "cell_type": "markdown",
   "metadata": {},
   "source": [
    "### 请简要的证明，在规模为n的子数组上，partition的时间复杂度为θ(n)"
   ]
  },
  {
   "cell_type": "markdown",
   "metadata": {},
   "source": [
    "略"
   ]
  },
  {
   "cell_type": "markdown",
   "metadata": {},
   "source": [
    "# 7.1-4"
   ]
  },
  {
   "cell_type": "markdown",
   "metadata": {},
   "source": [
    "### 如何修改quick-sort，使得它能够以非递增序进行排序"
   ]
  },
  {
   "cell_type": "code",
   "execution_count": 1,
   "metadata": {},
   "outputs": [],
   "source": [
    "def partition(A, p, r):\n",
    "    i = p - 1\n",
    "    for j in range(p, r):\n",
    "        if A[j] >= A[r]:  # Change Here\n",
    "            i += 1\n",
    "            A[i], A[j] = A[j], A[i]\n",
    "    A[i+1], A[r] = A[r], A[i+1]\n",
    "    return i + 1"
   ]
  },
  {
   "cell_type": "code",
   "execution_count": 2,
   "metadata": {},
   "outputs": [],
   "source": [
    "def quick_sort(A, p, r):\n",
    "    if p < r:\n",
    "        q = partition(A, p, r)\n",
    "        quick_sort(A, p, q-1)\n",
    "        quick_sort(A, q+1, r)"
   ]
  },
  {
   "cell_type": "code",
   "execution_count": 5,
   "metadata": {},
   "outputs": [
    {
     "name": "stdout",
     "output_type": "stream",
     "text": [
      "[21, 19, 13, 12, 11, 11, 9, 8, 7, 6, 5, 4, 2]\n"
     ]
    }
   ],
   "source": [
    "A = [13,19,9,5,12,8,7,4,21,2,6,11,11]\n",
    "quick_sort(A,0,len(A)-1)\n",
    "print A"
   ]
  }
 ],
 "metadata": {
  "kernelspec": {
   "display_name": "Python 2",
   "language": "python",
   "name": "python2"
  },
  "language_info": {
   "codemirror_mode": {
    "name": "ipython",
    "version": 2
   },
   "file_extension": ".py",
   "mimetype": "text/x-python",
   "name": "python",
   "nbconvert_exporter": "python",
   "pygments_lexer": "ipython2",
   "version": "2.7.10"
  }
 },
 "nbformat": 4,
 "nbformat_minor": 2
}
