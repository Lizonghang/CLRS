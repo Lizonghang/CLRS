{
 "cells": [
  {
   "cell_type": "markdown",
   "metadata": {},
   "source": [
    "# 7.3-1"
   ]
  },
  {
   "cell_type": "markdown",
   "metadata": {},
   "source": [
    "### 为什么分析随机化算法的期望运行时间，而不是其最坏运行时间？"
   ]
  },
  {
   "cell_type": "markdown",
   "metadata": {},
   "source": [
    "随机化算法不能改变最坏情况下的运行时间，但是能降低最坏情况发生的概率，使得在平均情况下对输入数组的划分比较均衡。"
   ]
  },
  {
   "cell_type": "markdown",
   "metadata": {},
   "source": [
    "# 7.3-2"
   ]
  },
  {
   "cell_type": "markdown",
   "metadata": {},
   "source": [
    "### 在randomized_quicksort运行过程中，在最坏情况下，随机数生成器random被调用了多少次？在最好情况下呢？以$\\theta$符号的形式给出答案"
   ]
  },
  {
   "cell_type": "markdown",
   "metadata": {},
   "source": [
    "1. 最好的情况是划分是平衡的，其时间复杂度满足: $T(n)=2T(n/2)+1$，根据主定理4.1(P53)得$T(n)=\\theta(n)$\n",
    "2. 最坏的情况是划分为一条链，其时间复杂度满足: $T(n)=T(n-1)+T(0)+1=T(n-1)+1$, 结果为$T(n)=\\theta(n)$"
   ]
  }
 ],
 "metadata": {
  "kernelspec": {
   "display_name": "Python 2",
   "language": "python",
   "name": "python2"
  },
  "language_info": {
   "codemirror_mode": {
    "name": "ipython",
    "version": 2
   },
   "file_extension": ".py",
   "mimetype": "text/x-python",
   "name": "python",
   "nbconvert_exporter": "python",
   "pygments_lexer": "ipython2",
   "version": "2.7.10"
  }
 },
 "nbformat": 4,
 "nbformat_minor": 2
}
