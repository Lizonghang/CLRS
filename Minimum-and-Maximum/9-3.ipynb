{
 "cells": [
  {
   "cell_type": "markdown",
   "metadata": {},
   "source": [
    "# 9-3.1"
   ]
  },
  {
   "cell_type": "markdown",
   "metadata": {},
   "source": [
    "如果输入元素被分为每组7个，类似于9.3节的推导过程，可得：\n",
    "\n",
    "\\begin{equation}\n",
    "4(\\left\\lceil \\frac { 1 }{ 2 } \\left\\lceil \\frac { n }{ 7 }  \\right\\rceil  \\right\\rceil -2)\\ge \\frac { 2n }{ 7 } -8\\\\\n",
    "T(n)=T(\\left\\lceil \\frac { n }{ 7 }  \\right\\rceil )+T(\\frac { 5n }{ 7 } +8)+O(n)\n",
    "\\end{equation}\n",
    "\n",
    "假设$T(n)\\le cn$,\n",
    "\n",
    "\\begin{align}\n",
    "T(n)&\\le \\frac { cn }{ 7 } +c+8c+\\frac { 5cn }{ 7 } +an\\\\ \n",
    "&=\\frac { 6cn }{ 7 } +9c+an\\\\ \n",
    "&=cn+(-\\frac { cn }{ 7 } +9c+an)\\\\ \n",
    "&\\le cn\\\\ \n",
    "\\end{align}\n",
    "\n",
    "每组7个元素算法依然是线性。\n",
    "\n",
    "如果输入元素被分为每组3个，可得：\n",
    "\n",
    "\\begin{equation} \n",
    "2(\\left\\lceil \\frac { 1 }{ 2 } \\left\\lceil \\frac { n }{ 3 }  \\right\\rceil  \\right\\rceil -2)\\ge \\frac { n }{ 3 } -4 \\\\\n",
    "T(n)=T(\\left\\lceil \\frac { n }{ 3 }  \\right\\rceil )+T(\\frac { 2n }{ 3 } +4)+O(n) \n",
    "\\end{equation}\n",
    "\n",
    "假设$T(n)\\ge cn$,\n",
    "\n",
    "\\begin{align} \n",
    "T(n) & \\ge \\frac { cn }{ 3 } +c+4c+\\frac { 2cn }{ 3 } +an \\\\  \n",
    "& =cn+5c+an \\\\  \n",
    "& >cn \n",
    "\\end{align}\n",
    "\n",
    "每组3个元素算法不再是线性。"
   ]
  },
  {
   "cell_type": "markdown",
   "metadata": {},
   "source": [
    "# 9.3-2"
   ]
  },
  {
   "cell_type": "markdown",
   "metadata": {},
   "source": [
    "由9.3节推导可知，至少有$\\frac{3n}{10}-6$个元素大于中位数的中位数$x$，可计算出$n$的取值范围:\n",
    "\n",
    "\\begin{align}\n",
    "\\frac { 3n }{ 10 } -6 &\\ge \\left\\lceil \\frac { n }{ 4 }  \\right \\rceil \\\\\n",
    "\\frac { 3n }{ 10 } -6 &\\ge \\frac { n }{ 4 } +1 \\\\\n",
    "n &\\ge 140\n",
    "\\end{align}"
   ]
  },
  {
   "cell_type": "markdown",
   "metadata": {},
   "source": [
    "# 9.3-3"
   ]
  },
  {
   "cell_type": "markdown",
   "metadata": {},
   "source": [
    "寻找合适的主元：由9.3节的结论可知，寻找中位数的中位数的操作总计需要$O(n)$的时间复杂度。将寻找主元的操作视作partition的一部分，需要$O(n)$的时间复杂度，没有改变partition的时间复杂度，但能确保得到平衡的划分。因此即使在最坏情况下，快排也满足$O(n\\lg n)$的时间复杂度。\n",
    "\n",
    "\\begin{equation}\n",
    "T(n)=2T(\\frac{n}{2})+n+an=2T(\\frac{n}{2})+cn=O(n\\lg n)\n",
    "\\end{equation}"
   ]
  },
  {
   "cell_type": "markdown",
   "metadata": {},
   "source": [
    "# 9.3-4"
   ]
  },
  {
   "cell_type": "markdown",
   "metadata": {},
   "source": [
    "原文：Suppose that an algorithm uses only comparisons to find the $i$-th smallest element in a set of $n$ elements. Show that it can also find the $i-1$ smaller elements and $n-i$ larger elements without performing additional comparisons.\n",
    "\n",
    "当第i小的元素$x$被找到时，原数组已经被partition按照左侧比$x$小，右侧比$x$大的规律排列。"
   ]
  },
  {
   "cell_type": "markdown",
   "metadata": {},
   "source": [
    "# 9.3-5"
   ]
  },
  {
   "cell_type": "markdown",
   "metadata": {},
   "source": [
    "用黑箱得到的中位数作为主元进行划分，满足RANDOMIZED-SELECT的期望运行时间$O(n)$。"
   ]
  },
  {
   "cell_type": "code",
   "execution_count": 1,
   "metadata": {},
   "outputs": [],
   "source": [
    "def get_median(A, p, r):\n",
    "    # Black Box\n",
    "    return sorted(A)[(p+r)//2]\n",
    "\n",
    "def partition(A, p, r, x):\n",
    "    # Move the pivot x to the tail, O(n)\n",
    "    for k in range(p, r):\n",
    "        if A[k] == x:\n",
    "            A[k], A[r] = A[r], A[k]\n",
    "    \n",
    "    # Partition\n",
    "    i = p - 1\n",
    "    for k in range(p, r):\n",
    "        if A[k] < x:\n",
    "            i += 1\n",
    "            A[i], A[k] = A[k], A[i]\n",
    "            \n",
    "    i += 1\n",
    "    A[i], A[r] = A[r], A[i]\n",
    "    return i\n",
    "\n",
    "def select(A, p, r, i):\n",
    "    if p == r:\n",
    "        return A[p]\n",
    "    x = get_median(A, p, r)\n",
    "    q = partition(A, p, r, x)\n",
    "    k = q - p + 1\n",
    "    if i == k:\n",
    "        return A[q]\n",
    "    elif i < k:\n",
    "        return select(A, p, q-1, i)\n",
    "    else:\n",
    "        return select(A, q+1, r, i-k)"
   ]
  },
  {
   "cell_type": "code",
   "execution_count": 20,
   "metadata": {},
   "outputs": [
    {
     "name": "stdout",
     "output_type": "stream",
     "text": [
      "1\n"
     ]
    }
   ],
   "source": [
    "A = [3,5,2,6,7,8,1,9]\n",
    "print select(A, 0, len(A)-1, 1)"
   ]
  },
  {
   "cell_type": "markdown",
   "metadata": {},
   "source": [
    "# 9-3.6"
   ]
  },
  {
   "cell_type": "markdown",
   "metadata": {},
   "source": [
    "![](fig2.jpg)"
   ]
  },
  {
   "cell_type": "markdown",
   "metadata": {},
   "source": [
    "![](fig3.png)"
   ]
  },
  {
   "cell_type": "markdown",
   "metadata": {},
   "source": [
    "![](fig4.png)"
   ]
  },
  {
   "cell_type": "code",
   "execution_count": 122,
   "metadata": {},
   "outputs": [],
   "source": [
    "import math\n",
    "\n",
    "def quantiles(A, p, r, k):\n",
    "    if k == 1:  return\n",
    "    x = select(A, p, r, (k/2)*(r-p+1)/k+1)\n",
    "    X.append(x)\n",
    "    partition(A, p, r, x)\n",
    "    quantiles(A, p, p+(k/2)*(r-p+1)/k-1, k/2)\n",
    "    quantiles(A, p+(k/2)*(r-p+1)/k, r, k-k/2)"
   ]
  },
  {
   "cell_type": "code",
   "execution_count": 123,
   "metadata": {},
   "outputs": [
    {
     "name": "stdout",
     "output_type": "stream",
     "text": [
      "1 2 3 5 6 7 8 9\n",
      "1 2   5 6   8 9\n",
      "\n"
     ]
    }
   ],
   "source": [
    "def display(A, X):\n",
    "    A_ = sorted(A)\n",
    "    print ' '.join([str(_) for _ in A_])\n",
    "    for i in A_:\n",
    "        if i in X:\n",
    "            A_[A_.index(i)] = ' '\n",
    "    print ' '.join([str(_) for _ in A_])\n",
    "\n",
    "A = [3,5,2,6,7,8,1,9]\n",
    "X = []\n",
    "quantiles(A, 0, len(A)-1, 3)\n",
    "display(A, X)\n",
    "print\n",
    "\n",
    "# A = [3,5,2,6,7,8,1]\n",
    "# X = []\n",
    "# quantiles(A, 0, len(A)-1, 4)\n",
    "# display(A, X)\n",
    "# print\n",
    "\n",
    "# A = [3,5,2,6,7,8,1,9,4,16,13,15,17,11,14]\n",
    "# X = []\n",
    "# quantiles(A, 0, len(A)-1, 2)\n",
    "# display(A, X)\n",
    "# print \n",
    "\n",
    "# A = [3,5,2,6,7,8,1,9,4,16,13,15,17,11,14]\n",
    "# X = []\n",
    "# quantiles(A, 0, len(A)-1, 4)\n",
    "# display(A, X)\n",
    "# print\n",
    "\n",
    "# A = [3,5,2,6,7,8,1,9,4,16,13,15,17,11,14]\n",
    "# X = []\n",
    "# quantiles(A, 0, len(A)-1, 8)\n",
    "# display(A, X)"
   ]
  },
  {
   "cell_type": "markdown",
   "metadata": {},
   "source": [
    "限制: 要得到正确的划分需要满足$(n+1)/k\\in Z$。为了使<code>display</code>函数正常输出需要保证输入元素互不相同，但<code>quantiles</code>函数是正常执行的。"
   ]
  },
  {
   "cell_type": "markdown",
   "metadata": {},
   "source": [
    "# 9.3-7"
   ]
  },
  {
   "cell_type": "markdown",
   "metadata": {},
   "source": [
    "1. 使用复杂度为$O(n)$的select算法找出中位数$x$。\n",
    "2. 遍历所有元素$k$，计算$|x-k|$，复杂度为$O(n)$。\n",
    "3. 使用复杂度为$O(n)$的select算法找到第$k$小的差值dist。\n",
    "4. 遍历所有元素计算其差值，若差值绝对值小于dist则输出，复杂度为$O(n)$。\n",
    "\n",
    "总的时间复杂度为$O(n)$。"
   ]
  },
  {
   "cell_type": "markdown",
   "metadata": {},
   "source": [
    "# 9.3-8"
   ]
  },
  {
   "cell_type": "code",
   "execution_count": 21,
   "metadata": {},
   "outputs": [],
   "source": [
    "def get_median_of_two_array(A, B):\n",
    "    if len(A) == 1:\n",
    "        return min(A[0], B[0])\n",
    "    mid = (len(A)-1)/2\n",
    "    if A[mid] == B[mid]:\n",
    "        return A[mid]\n",
    "    elif A[mid] < B[mid]:\n",
    "        return get_median_of_two_array(A[-(mid+1):], B[:(mid+1)])\n",
    "    else:\n",
    "        return get_median_of_two_array(A[:(mid+1)], B[-(mid+1):])"
   ]
  },
  {
   "cell_type": "code",
   "execution_count": 22,
   "metadata": {},
   "outputs": [
    {
     "name": "stdout",
     "output_type": "stream",
     "text": [
      "9\n"
     ]
    }
   ],
   "source": [
    "A = [1,3,5,7,9,11,13,15,17,19]\n",
    "B = [2,4,6,8,8,12,14,16,18,20]\n",
    "print get_median_of_two_array(A,B)"
   ]
  },
  {
   "cell_type": "markdown",
   "metadata": {},
   "source": [
    "# 9.3-9"
   ]
  },
  {
   "cell_type": "markdown",
   "metadata": {},
   "source": [
    "n为奇数时，穿过中位数的管道总长最短；n为偶数时，位于上中位数和下中位数之间的管道总长最短。"
   ]
  },
  {
   "cell_type": "markdown",
   "metadata": {},
   "source": [
    "当n为奇数时:"
   ]
  },
  {
   "cell_type": "markdown",
   "metadata": {},
   "source": [
    "![](fig5.png)"
   ]
  },
  {
   "cell_type": "markdown",
   "metadata": {},
   "source": [
    "\\begin{equation}\n",
    "D_{min} = \\sum _{ i=1 }^{ 7 }{ { d }_{ i } } = |{ y }_{ 1 }-{ y }_{ 2 }|+|{ y }_{ 3 }-{ y }_{ 4 }|+0+|{ y }_{ 6 }-{ y }_{ 7 }|\n",
    "\\end{equation}\n",
    "<hr/>"
   ]
  },
  {
   "cell_type": "markdown",
   "metadata": {},
   "source": [
    "![](fig6.png)"
   ]
  },
  {
   "cell_type": "markdown",
   "metadata": {},
   "source": [
    "\\begin{equation}\n",
    "D = \\sum _{ i=1 }^{ 7 }{ { d }_{ i } } = |{ y }_{ 1 }-{ y }_{ 2 }|+|{ y }_{ 3 }-{ y }_{ 4 }|+|{ y }_{ 5 }-{ y }_{ main }|+|{ y }_{ 6 }-{ y }_{ 7 }| = D_{min} + { d }_{ 5 } \\gt D_{min}\n",
    "\\end{equation}\n",
    "<hr/>"
   ]
  },
  {
   "cell_type": "markdown",
   "metadata": {},
   "source": [
    "当n为偶数时:"
   ]
  },
  {
   "cell_type": "markdown",
   "metadata": {},
   "source": [
    "![](fig7.png)"
   ]
  },
  {
   "cell_type": "markdown",
   "metadata": {},
   "source": [
    "\\begin{equation}\n",
    "{ D }_{ min }=\\sum _{ i=1 }^{ 8 }{ { d }_{ i } } =|{ y }_{ 1 }-{ y }_{ 2 }|+|{ y }_{ 3 }-{ y }_{ 4 }|+|{ y }_{ 7 }-{ y }_{ 6 }|+|{ y }_{ 8 }-{ y }_{ 5 }|\n",
    "\\end{equation}\n",
    "<hr/>"
   ]
  },
  {
   "cell_type": "markdown",
   "metadata": {},
   "source": [
    "![](fig8.png)"
   ]
  },
  {
   "cell_type": "markdown",
   "metadata": {},
   "source": [
    "\\begin{equation}\n",
    "D=\\sum _{ i=1 }^{ 8 }{ { d }_{ i } } =|{ y }_{ 1 }-{ y }_{ 2 }|+|{ y }_{ 3 }-{ y }_{ 4 }|+|{ y }_{ 7 }-{ y }_{ 6 }|+|{ y }_{ 8 }-{ y }_{ 5 }| + 2\\delta \\gt {D}_{min}\n",
    "\\end{equation}"
   ]
  }
 ],
 "metadata": {
  "kernelspec": {
   "display_name": "Python 2",
   "language": "python",
   "name": "python2"
  },
  "language_info": {
   "codemirror_mode": {
    "name": "ipython",
    "version": 2
   },
   "file_extension": ".py",
   "mimetype": "text/x-python",
   "name": "python",
   "nbconvert_exporter": "python",
   "pygments_lexer": "ipython2",
   "version": "2.7.10"
  }
 },
 "nbformat": 4,
 "nbformat_minor": 2
}
