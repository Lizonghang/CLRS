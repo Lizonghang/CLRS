{
 "cells": [
  {
   "cell_type": "markdown",
   "metadata": {},
   "source": [
    "# 9.1-1"
   ]
  },
  {
   "cell_type": "code",
   "execution_count": 9,
   "metadata": {},
   "outputs": [],
   "source": [
    "def find_second_smallest(a, l, r):\n",
    "    if l + 1 == r:\n",
    "        return a[l], []\n",
    "    \n",
    "    mid = (l + r + 1) // 2\n",
    "    min_l, lst_l = find_second_smallest(a, l, mid)\n",
    "    min_r, lst_r = find_second_smallest(a, mid, r)\n",
    "    \n",
    "    if min_l <= min_r:\n",
    "        min_val, lst = min_l, lst_l + [min_r]\n",
    "    else:\n",
    "        min_val, lst = min_r, lst_r + [min_l]\n",
    "        \n",
    "    # Find the second minimum\n",
    "    if l == 0 and r == len(a):\n",
    "        idx = 0\n",
    "        for i in range(1, len(lst)):\n",
    "            if lst[i] < lst[idx]:\n",
    "                idx = i\n",
    "        return lst[idx]\n",
    "    \n",
    "    return min_val, lst"
   ]
  },
  {
   "cell_type": "code",
   "execution_count": 12,
   "metadata": {},
   "outputs": [
    {
     "name": "stdout",
     "output_type": "stream",
     "text": [
      "The Second Minimum Value: 2\n"
     ]
    }
   ],
   "source": [
    "a = [1,3,5,2,4]\n",
    "print 'The Second Minimum Value:', find_second_smallest(a,0,len(a))"
   ]
  },
  {
   "cell_type": "markdown",
   "metadata": {},
   "source": [
    "![](fig1.png)"
   ]
  },
  {
   "cell_type": "markdown",
   "metadata": {},
   "source": [
    "1. 比较次数为图中非叶结点的结点总数，或将n个叶结点拼接成一个结点需要的步数，总比较次数为$n-1$次。\n",
    "\n",
    "2. lst最大长度为从根节点起到最深的叶节点所经过的路径数，即最深叶结点的深度减1.因此最多需要$\\left\\lceil \\lg n - 1 \\right\\rceil $次比较，以在lst中找到第二小的元素。\n",
    "\n",
    "因此找到第二小的元素最坏情况下的时间复杂度为$n+\\left\\lceil \\lg n \\right\\rceil -2$。"
   ]
  },
  {
   "cell_type": "markdown",
   "metadata": {},
   "source": [
    "# 9.1-2"
   ]
  },
  {
   "cell_type": "markdown",
   "metadata": {},
   "source": [
    "若n为奇数，例如[1,3,5,2,4]，比较过程如下：\n",
    "\n",
    "1. 比较1和3，并赋予min=1,max=3，只需1次比较。\n",
    "2. 比较5和2，并赋予min=minimum(min,2)=1,max=maximum(max,5)=5，需要做3次比较。\n",
    "3. 最后剩下一个元素4，分别与min和max比较，min=minimum(min,4)=1,max=maximum(max,4)=5，需要做2次比较。\n",
    "\n",
    "由于步骤2可能进行$\\frac{n-3}{2}$次，每次需要3次比较，因此步骤2总的比较次数为$\\frac{3(n-3)}{2}$次。\n",
    "\n",
    "总的比较次数=$1+\\frac{3(n-3)}{2}+2=\\frac{3n}{2}-\\frac{3}{2}=(\\left\\lceil \\frac{3n}{2}-\\frac{1}{2} \\right\\rceil)-\\frac{3}{2}=\\left\\lceil \\frac{3n}{2} \\right\\rceil-2$\n",
    "\n",
    "若n为偶数，例如[1,3,5,2]，比较过程与上述类似，但是缺少第3步。\n",
    "\n",
    "总的比较次数=$1+\\frac{3(n-2)}{2}=\\frac{3n}{2}-2=\\left\\lceil \\frac{3n}{2} \\right\\rceil-2$"
   ]
  }
 ],
 "metadata": {
  "kernelspec": {
   "display_name": "Python 2",
   "language": "python",
   "name": "python2"
  },
  "language_info": {
   "codemirror_mode": {
    "name": "ipython",
    "version": 2
   },
   "file_extension": ".py",
   "mimetype": "text/x-python",
   "name": "python",
   "nbconvert_exporter": "python",
   "pygments_lexer": "ipython2",
   "version": "2.7.10"
  }
 },
 "nbformat": 4,
 "nbformat_minor": 2
}
