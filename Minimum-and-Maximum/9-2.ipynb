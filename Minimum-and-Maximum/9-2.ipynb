{
 "cells": [
  {
   "cell_type": "markdown",
   "metadata": {},
   "source": [
    "# 9.2-3 RANDOMIZED-SELECT基于循环的版本"
   ]
  },
  {
   "cell_type": "code",
   "execution_count": 1,
   "metadata": {},
   "outputs": [],
   "source": [
    "import random\n",
    "\n",
    "def partition(A, p, r):\n",
    "    i = p - 1\n",
    "    for j in range(p, r):\n",
    "        if A[j] < A[r]:\n",
    "            i += 1\n",
    "            A[i], A[j] = A[j], A[i]\n",
    "    A[i+1], A[r] = A[r], A[i+1]\n",
    "    return i + 1\n",
    "\n",
    "def randomized_partition(A, p, r):\n",
    "    i = random.choice(range(p, r+1))\n",
    "    A[i], A[r] = A[r], A[i]\n",
    "    return partition(A, p, r)\n",
    "\n",
    "def randomized_select(A, p, r, i):\n",
    "    while True:\n",
    "        if p == r:\n",
    "            return A[p]\n",
    "        q = randomized_partition(A, p, r)\n",
    "        k = q - p + 1\n",
    "        if i == k:\n",
    "            return A[q]\n",
    "        elif i < k:\n",
    "            r = q-1\n",
    "        else:\n",
    "            p = q+1\n",
    "            i -= k"
   ]
  },
  {
   "cell_type": "code",
   "execution_count": 7,
   "metadata": {},
   "outputs": [
    {
     "name": "stdout",
     "output_type": "stream",
     "text": [
      "1\n"
     ]
    }
   ],
   "source": [
    "A = [3,5,2,6,7,8,1,9]\n",
    "print randomized_select(A, 0, len(A)-1, 1)"
   ]
  }
 ],
 "metadata": {
  "kernelspec": {
   "display_name": "Python 2",
   "language": "python",
   "name": "python2"
  },
  "language_info": {
   "codemirror_mode": {
    "name": "ipython",
    "version": 2
   },
   "file_extension": ".py",
   "mimetype": "text/x-python",
   "name": "python",
   "nbconvert_exporter": "python",
   "pygments_lexer": "ipython2",
   "version": "2.7.10"
  }
 },
 "nbformat": 4,
 "nbformat_minor": 2
}
