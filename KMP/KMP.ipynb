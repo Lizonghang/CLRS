{
 "cells": [
  {
   "cell_type": "code",
   "execution_count": 132,
   "metadata": {},
   "outputs": [],
   "source": [
    "from __future__ import print_function\n",
    "\n",
    "def COMPUTE_PREFIX_FUNCTION(P):\n",
    "    m = len(P)\n",
    "    next_vec = [-1] * m\n",
    "    k = -1\n",
    "    for q in range(1, m):\n",
    "        while k > -1 and P[k+1] != P[q]:\n",
    "            k = next_vec[k]\n",
    "        if P[k+1] == P[q]:\n",
    "            k += 1\n",
    "        next_vec[q] = k\n",
    "    print(\"next vector =\", next_vec)\n",
    "    return next_vec"
   ]
  },
  {
   "cell_type": "code",
   "execution_count": 116,
   "metadata": {},
   "outputs": [],
   "source": [
    "def KMP_MATCHER(T, P):\n",
    "    next_vec = COMPUTE_PREFIX_FUNCTION(P)\n",
    "    occurs = []\n",
    "    n, m = len(T), len(P)\n",
    "    q = -1\n",
    "    for i in range(n):\n",
    "        while q > -1 and P[q+1] != T[i]:\n",
    "            q = next_vec[q]\n",
    "        if P[q+1] == T[i]:\n",
    "            q += 1\n",
    "        if q == m - 1:\n",
    "            occurs.append(i-m+1)\n",
    "            q = next_vec[q]\n",
    "    return occurs"
   ]
  },
  {
   "cell_type": "code",
   "execution_count": 133,
   "metadata": {},
   "outputs": [
    {
     "name": "stdout",
     "output_type": "stream",
     "text": [
      "next vector = [-1, -1, 0, 0, 1, -1, 0, 1, 2, 3, 4]\n",
      "pattern occurs at shift [13]\n"
     ]
    }
   ],
   "source": [
    "\"\"\"\n",
    "abaabaabbabaaabaabbabaab\n",
    "abaabbabaab\n",
    "\n",
    "abaabaabbabaaabaabbabaab\n",
    "   abaabbabaab\n",
    "\n",
    "abaabaabbabaaabaabbabaab\n",
    "         abaabbabaab\n",
    "\n",
    "abaabaabbabaaabaabbabaab\n",
    "            abaabbabaab\n",
    "\n",
    "abaabaabbabaaabaabbabaab   \n",
    "             abaabbabaab  \n",
    "\"\"\"\n",
    "T = \"abaabaabbabaaabaabbabaab\"\n",
    "P = \"abaabbabaab\"\n",
    "\n",
    "print(\"pattern occurs at shift\", KMP_MATCHER(T, P))"
   ]
  }
 ],
 "metadata": {
  "kernelspec": {
   "display_name": "Python 2",
   "language": "python",
   "name": "python2"
  },
  "language_info": {
   "codemirror_mode": {
    "name": "ipython",
    "version": 2
   },
   "file_extension": ".py",
   "mimetype": "text/x-python",
   "name": "python",
   "nbconvert_exporter": "python",
   "pygments_lexer": "ipython2",
   "version": "2.7.10"
  }
 },
 "nbformat": 4,
 "nbformat_minor": 2
}
