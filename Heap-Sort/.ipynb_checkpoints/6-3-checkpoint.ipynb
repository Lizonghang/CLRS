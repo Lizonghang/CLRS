{
 "cells": [
  {
   "cell_type": "markdown",
   "metadata": {},
   "source": [
    "# Young氏矩阵"
   ]
  },
  {
   "cell_type": "markdown",
   "metadata": {},
   "source": [
    "在一个<code>m×n</code>的Young氏矩阵中，每一行的数据都是从左到右排序的，每一列的数据都是从上到下排序的。Young氏矩阵中也会存在一些值为inf的数据项，表示那些不存在的元素。因此，Young氏矩阵可以用来存储<code>r≤mn</code>个有限的数。"
   ]
  },
  {
   "cell_type": "markdown",
   "metadata": {},
   "source": [
    "### 画出一个包含元素为{9,16,3,2,4,8,5,14,12}的4×4Young氏矩阵"
   ]
  },
  {
   "cell_type": "markdown",
   "metadata": {},
   "source": [
    "```\n",
    "2   3   4   5\n",
    "8   9   12  14\n",
    "16  inf inf inf\n",
    "inf inf inf inf\n",
    "```"
   ]
  },
  {
   "cell_type": "markdown",
   "metadata": {},
   "source": [
    "### 对于一个m×n的Young氏矩阵Y来说，请证明：如果Y[1,1]=inf，则Y为空；如果Y[m,n]<inf，则Y为满（即包含mn个元素）"
   ]
  },
  {
   "cell_type": "markdown",
   "metadata": {},
   "source": [
    "略"
   ]
  },
  {
   "cell_type": "markdown",
   "metadata": {},
   "source": [
    "### 请给出一个在m×n Young氏矩阵上时间复杂度为O(m+n)的extract_min算法实现"
   ]
  },
  {
   "cell_type": "code",
   "execution_count": 20,
   "metadata": {},
   "outputs": [],
   "source": [
    "def young_min_heapify(A, i, j):\n",
    "    if j<n-1 and A[i,j]>A[i,j+1]:\n",
    "        min_i, min_j = i, j+1\n",
    "    else:\n",
    "        min_i, min_j = i, j\n",
    "    if i<m-1 and A[min_i,min_j]>A[i+1,j]:\n",
    "        min_i, min_j = i+1, j\n",
    "    if min_i != i or min_j != j:\n",
    "        A[i,j], A[min_i,min_j] = A[min_i,min_j], A[i,j]\n",
    "        young_min_heapify(A, min_i, min_j)"
   ]
  },
  {
   "cell_type": "code",
   "execution_count": 21,
   "metadata": {},
   "outputs": [],
   "source": [
    "def young_extract_min(A):\n",
    "    min_value = A[0,0]\n",
    "    A[0,0], A[m-1,n-1] = A[m-1,n-1], A[0,0]\n",
    "    A[m-1,n-1] = np.inf\n",
    "    young_min_heapify(A, 0, 0)\n",
    "    return min_value"
   ]
  },
  {
   "cell_type": "code",
   "execution_count": 22,
   "metadata": {},
   "outputs": [
    {
     "name": "stdout",
     "output_type": "stream",
     "text": [
      "Min value of A is 2.0\n",
      "A:  [[  3.   4.   5.  14.]\n",
      " [  8.   9.  12.  inf]\n",
      " [ 16.  inf  inf  inf]\n",
      " [ inf  inf  inf  inf]]\n"
     ]
    }
   ],
   "source": [
    "import numpy as np\n",
    "\n",
    "A = np.array(\n",
    "    [[2, 3, 4, 5], \n",
    "     [8, 9, 12, 14], \n",
    "     [16, np.inf, np.inf, np.inf], \n",
    "     [np.inf, np.inf, np.inf, np.inf]]\n",
    ")\n",
    "m, n = A.shape\n",
    "\n",
    "print 'Min value of A is', young_extract_min(A)\n",
    "print 'A: ', A"
   ]
  },
  {
   "cell_type": "markdown",
   "metadata": {},
   "source": [
    "时间复杂度: <code>O(m+n)</code>"
   ]
  },
  {
   "cell_type": "markdown",
   "metadata": {},
   "source": [
    "### 试说明如何在O(m+n)时间内，将一个新元素插入到一个未满的mxn的Young氏矩阵中"
   ]
  },
  {
   "cell_type": "markdown",
   "metadata": {},
   "source": [
    "采用类似堆中增加元素的方法，先将inf放在Young矩阵的末尾，然后采用类似<code>increase_key</code>的方法，向上调整"
   ]
  },
  {
   "cell_type": "code",
   "execution_count": 28,
   "metadata": {},
   "outputs": [],
   "source": [
    "def young_increase_key(A, i, j, key=None):\n",
    "    if key:\n",
    "        if key > A[i,j]:\n",
    "            raise ValueError(\"New key must smaller than A[i]\")\n",
    "        A[i,j] = key\n",
    "    if j>0 and A[i,j]<A[i,j-1]:\n",
    "        max_i, max_j = i, j-1\n",
    "    else:\n",
    "        max_i, max_j = i, j\n",
    "    if i>0 and A[max_i,max_j]<A[i-1,j]:\n",
    "        max_i, max_j = i-1, j\n",
    "    if max_i!=i or max_j!=j:\n",
    "        A[i,j], A[max_i,max_j] = A[max_i,max_j], A[i,j]\n",
    "        young_increase_key(A, max_i, max_j)"
   ]
  },
  {
   "cell_type": "code",
   "execution_count": 29,
   "metadata": {},
   "outputs": [],
   "source": [
    "def young_insert(A, key):\n",
    "    if A[m-1,n-1] != np.inf:\n",
    "        raise Exception(\"Young Matrix is full\")\n",
    "    young_increase_key(A, m-1, n-1, key)"
   ]
  },
  {
   "cell_type": "code",
   "execution_count": 30,
   "metadata": {},
   "outputs": [
    {
     "name": "stdout",
     "output_type": "stream",
     "text": [
      "Insert 7\n",
      "A:  [[  2.   3.   4.   5.]\n",
      " [  7.   9.  12.  14.]\n",
      " [  8.  inf  inf  inf]\n",
      " [ 16.  inf  inf  inf]]\n"
     ]
    }
   ],
   "source": [
    "import numpy as np\n",
    "\n",
    "A = np.array(\n",
    "    [[2, 3, 4, 5], \n",
    "     [8, 9, 12, 14], \n",
    "     [16, np.inf, np.inf, np.inf], \n",
    "     [np.inf, np.inf, np.inf, np.inf]]\n",
    ")\n",
    "m, n = A.shape\n",
    "\n",
    "young_insert(A, 7)\n",
    "\n",
    "print 'Insert 7'\n",
    "print 'A: ', A"
   ]
  },
  {
   "cell_type": "markdown",
   "metadata": {},
   "source": [
    "### 在不用其他排序算法的情况下，试说明如何利用一个nxn的Young氏矩阵在O(n^3)时间内将n^2个数进行排序"
   ]
  },
  {
   "cell_type": "markdown",
   "metadata": {},
   "source": [
    "每次提取其中的最小元素，调用<code>young_extract_min</code>，共需调用n×n次，而每次<code>young_extract_min</code>需要<code>O(n+n)</code>运行时间，故总的运行时间为<code>O(n^3)</code>。"
   ]
  },
  {
   "cell_type": "code",
   "execution_count": 31,
   "metadata": {},
   "outputs": [],
   "source": [
    "def young_sort(A):\n",
    "    result = []\n",
    "    while A[0,0]!=np.inf:\n",
    "        result.append(young_extract_min(A))\n",
    "    return result"
   ]
  },
  {
   "cell_type": "code",
   "execution_count": 34,
   "metadata": {},
   "outputs": [
    {
     "name": "stdout",
     "output_type": "stream",
     "text": [
      "[2.0, 3.0, 4.0, 5.0, 8.0, 9.0, 12.0, 14.0, 16.0]\n"
     ]
    }
   ],
   "source": [
    "import numpy as np\n",
    "\n",
    "A = np.array(\n",
    "    [[2, 3, 4, 5], \n",
    "     [8, 9, 12, 16], \n",
    "     [14, np.inf, np.inf, np.inf], \n",
    "     [np.inf, np.inf, np.inf, np.inf]]\n",
    ")\n",
    "m, n = A.shape\n",
    "\n",
    "print young_sort(A)"
   ]
  },
  {
   "cell_type": "markdown",
   "metadata": {},
   "source": [
    "### 设计一个时间复杂度为O(m+n)的算法，它可以用来判断一个给定的数是否存在mxn的Young氏矩阵中"
   ]
  },
  {
   "cell_type": "markdown",
   "metadata": {},
   "source": [
    "每次与最右上角的元素X相比：如果等于X，则找到了；如果大于X，则去掉最上面一行；如果小于X，则去掉最右边一列。每次比较去掉一行或一列，则该算法的运行时间为O(m+n)。"
   ]
  },
  {
   "cell_type": "code",
   "execution_count": 42,
   "metadata": {},
   "outputs": [],
   "source": [
    "def young_search(A, key):\n",
    "    m, n = A.shape\n",
    "    x,y = 0, n-1\n",
    "    pos = None\n",
    "    while x!=m and y!=-1:\n",
    "        if key == A[x,y]:\n",
    "            pos = [x,y]\n",
    "            break\n",
    "        elif key > A[x,y]:\n",
    "            x += 1\n",
    "        else:\n",
    "            y -= 1\n",
    "    return pos"
   ]
  },
  {
   "cell_type": "code",
   "execution_count": 52,
   "metadata": {},
   "outputs": [
    {
     "name": "stdout",
     "output_type": "stream",
     "text": [
      "Located at [1, 2]\n"
     ]
    }
   ],
   "source": [
    "import numpy as np\n",
    "\n",
    "A = np.array(\n",
    "    [[2, 3, 4, 5], \n",
    "     [8, 9, 12, 16], \n",
    "     [14, np.inf, np.inf, np.inf], \n",
    "     [np.inf, np.inf, np.inf, np.inf]]\n",
    ")\n",
    "\n",
    "pos = young_search(A,  12)\n",
    "if pos:\n",
    "    print 'Located at', pos\n",
    "else:\n",
    "    print 'Not in Young Matrix'"
   ]
  }
 ],
 "metadata": {
  "kernelspec": {
   "display_name": "Python 2",
   "language": "python",
   "name": "python2"
  },
  "language_info": {
   "codemirror_mode": {
    "name": "ipython",
    "version": 2
   },
   "file_extension": ".py",
   "mimetype": "text/x-python",
   "name": "python",
   "nbconvert_exporter": "python",
   "pygments_lexer": "ipython2",
   "version": "2.7.10"
  }
 },
 "nbformat": 4,
 "nbformat_minor": 2
}
