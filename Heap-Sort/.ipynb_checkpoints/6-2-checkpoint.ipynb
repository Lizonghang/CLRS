{
 "cells": [
  {
   "cell_type": "markdown",
   "metadata": {},
   "source": [
    "# 6-2 对d叉堆的分析"
   ]
  },
  {
   "cell_type": "markdown",
   "metadata": {},
   "source": [
    "### 如何在一个数组中表示一个d叉堆"
   ]
  },
  {
   "cell_type": "code",
   "execution_count": 3,
   "metadata": {},
   "outputs": [],
   "source": [
    "d = 5"
   ]
  },
  {
   "cell_type": "code",
   "execution_count": 4,
   "metadata": {},
   "outputs": [],
   "source": [
    "def parent(i):\n",
    "    return (i-1)/d\n",
    "\n",
    "def children(i):\n",
    "    return range(d*i+1, d*i+d+1)"
   ]
  },
  {
   "cell_type": "code",
   "execution_count": 16,
   "metadata": {},
   "outputs": [
    {
     "name": "stdout",
     "output_type": "stream",
     "text": [
      "Parent of 3 is 0\n",
      "Children of 0 are [1, 2, 3, 4, 5]\n"
     ]
    }
   ],
   "source": [
    "print 'Parent of 3 is', parent(3)\n",
    "print 'Children of 0 are', children(0)"
   ]
  },
  {
   "cell_type": "markdown",
   "metadata": {},
   "source": [
    "### 包含n个元素的d叉堆的高度是多少？请用n和d表示。"
   ]
  },
  {
   "cell_type": "code",
   "execution_count": 8,
   "metadata": {},
   "outputs": [
    {
     "name": "stdout",
     "output_type": "stream",
     "text": [
      "Children of 0 are [1, 2, 3, 4, 5]\n",
      "Children of 5 are [26, 27, 28, 29, 30]\n",
      "Children of 30 are [151, 152, 153, 154, 155]\n",
      "Children of 155 are [776, 777, 778, 779, 780]\n",
      "Height of n=781 is 4 (exactly the height of 780)\n"
     ]
    }
   ],
   "source": [
    "import math\n",
    "\n",
    "def height(n):\n",
    "    if n == 0:  return 0\n",
    "    return int(math.floor(math.log(n*(d-1), d)))\n",
    "\n",
    "print 'Children of 0 are', children(0)\n",
    "print 'Children of 5 are', children(5)\n",
    "print 'Children of 30 are', children(30)\n",
    "print 'Children of 155 are', children(155)\n",
    "print 'Height of n=781 is', height(781), '(exactly the height of 780)'"
   ]
  },
  {
   "cell_type": "markdown",
   "metadata": {},
   "source": [
    "### 请给出extract_max在d叉最大堆上的一个有效实现，并用d和n表示出它的时间复杂度"
   ]
  },
  {
   "cell_type": "code",
   "execution_count": 85,
   "metadata": {},
   "outputs": [],
   "source": [
    "def d_max_heapify(A, i):\n",
    "    childs = children(i)\n",
    "    largest = i\n",
    "    for child in childs:\n",
    "        if child < len(A) and A[child] > A[largest]:\n",
    "            largest = child\n",
    "    if largest != i:\n",
    "        A[i], A[largest] = A[largest], A[i]\n",
    "        d_max_heapify(A, largest)"
   ]
  },
  {
   "cell_type": "code",
   "execution_count": 86,
   "metadata": {},
   "outputs": [],
   "source": [
    "def d_heap_extract_max(A):\n",
    "    A[0], A[-1] = A[-1], A[0]\n",
    "    heap_max = A.pop()\n",
    "    d_max_heapify(A, 0)\n",
    "    return heap_max"
   ]
  },
  {
   "cell_type": "code",
   "execution_count": 91,
   "metadata": {},
   "outputs": [
    {
     "name": "stdout",
     "output_type": "stream",
     "text": [
      "Max value of A is 30\n",
      "A: [29, 24, 28, 27, 26, 25, 0, 23, 22, 21, 20, 19, 18, 17, 16, 15, 14, 13, 12, 11, 10, 9, 8, 7, 6, 5, 4, 3, 2, 1]\n"
     ]
    }
   ],
   "source": [
    "A = range(31)[::-1]\n",
    "print 'Max value of A is', d_heap_extract_max(A)\n",
    "print 'A:', A"
   ]
  },
  {
   "cell_type": "markdown",
   "metadata": {},
   "source": [
    "时间复杂度: <code>O(dlogd(n))</code>, 每个节点进行<code>d</code>次比较，需要遍历树高个节点<code>logd(nd)=logd(n)+1≈logd(n)</code>，因此总的需要<code>O(dlogd(n))</code>。"
   ]
  },
  {
   "cell_type": "markdown",
   "metadata": {},
   "source": [
    "### 给出insert在d叉最大堆上的一个有效实现，并用d和n表示出它的时间复杂度。(无改动)"
   ]
  },
  {
   "cell_type": "code",
   "execution_count": 92,
   "metadata": {},
   "outputs": [],
   "source": [
    "def heap_increase_key(A, i, key):\n",
    "    if key < A[i]:\n",
    "        raise ValueError(\"New key must larger than A[i]\")\n",
    "    A[i] = key\n",
    "    while i > 0 and A[parent(i)] < A[i]:\n",
    "        A[i], A[parent(i)] = A[parent(i)], A[i]\n",
    "        i = parent(i)"
   ]
  },
  {
   "cell_type": "code",
   "execution_count": 93,
   "metadata": {},
   "outputs": [],
   "source": [
    "import numpy as np\n",
    "\n",
    "def max_heap_insert(A, key):\n",
    "    A.append(-np.inf)\n",
    "    heap_increase_key(A, len(A)-1, key)"
   ]
  },
  {
   "cell_type": "code",
   "execution_count": 98,
   "metadata": {},
   "outputs": [
    {
     "name": "stdout",
     "output_type": "stream",
     "text": [
      "[29, 28, 27, 26, 25, 25, 23, 22, 21, 20, 19, 18, 17, 16, 15, 14, 13, 12, 11, 10, 9, 8, 7, 6, 5, 4, 3, 2, 1, 0, 24]\n"
     ]
    }
   ],
   "source": [
    "A = range(30)[::-1]\n",
    "max_heap_insert(A, 25)\n",
    "print A"
   ]
  },
  {
   "cell_type": "markdown",
   "metadata": {},
   "source": [
    "时间复杂度: <code>O(logd(n))</code>"
   ]
  },
  {
   "cell_type": "markdown",
   "metadata": {},
   "source": [
    "### 给出increase_key的一个有效实现，用d和n表示它的时间复杂度"
   ]
  },
  {
   "cell_type": "markdown",
   "metadata": {},
   "source": [
    "见前面<code>heap_increase_key</code>实现。\n",
    "\n",
    "时间复杂度: <code>O(logd(n))</code>"
   ]
  }
 ],
 "metadata": {
  "kernelspec": {
   "display_name": "Python 2",
   "language": "python",
   "name": "python2"
  },
  "language_info": {
   "codemirror_mode": {
    "name": "ipython",
    "version": 2
   },
   "file_extension": ".py",
   "mimetype": "text/x-python",
   "name": "python",
   "nbconvert_exporter": "python",
   "pygments_lexer": "ipython2",
   "version": "2.7.10"
  }
 },
 "nbformat": 4,
 "nbformat_minor": 2
}
