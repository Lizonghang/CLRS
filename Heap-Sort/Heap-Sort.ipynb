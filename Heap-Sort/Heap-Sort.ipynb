{
 "cells": [
  {
   "cell_type": "markdown",
   "metadata": {},
   "source": [
    "# 维护堆的性质"
   ]
  },
  {
   "cell_type": "code",
   "execution_count": 1,
   "metadata": {},
   "outputs": [],
   "source": [
    "def parent(i):\n",
    "    return (i-1)/2\n",
    "\n",
    "def left(i):\n",
    "    return 2*i+1\n",
    "\n",
    "def right(i):\n",
    "    return 2*i+2"
   ]
  },
  {
   "cell_type": "code",
   "execution_count": 6,
   "metadata": {},
   "outputs": [
    {
     "name": "stdout",
     "output_type": "stream",
     "text": [
      "[16, 14, 10, 8, 7, 9, 3, 2, 4, 1]\n"
     ]
    }
   ],
   "source": [
    "def max_heapify(A, i):\n",
    "    l = left(i)\n",
    "    r = right(i)\n",
    "    largest = i\n",
    "    if l < len(A) and A[l] > A[largest]:\n",
    "        largest = l\n",
    "    if r < len(A) and A[r] > A[largest]:\n",
    "        largest = r\n",
    "    if largest != i:\n",
    "        A[i], A[largest] = A[largest], A[i]\n",
    "        max_heapify(A, largest)\n",
    "\n",
    "A = [16,4,10,14,7,9,3,2,8,1]\n",
    "max_heapify(A, 1)\n",
    "print A"
   ]
  },
  {
   "cell_type": "markdown",
   "metadata": {},
   "source": [
    "![](fig6-2.png)"
   ]
  },
  {
   "cell_type": "markdown",
   "metadata": {},
   "source": [
    "时间复杂度：<code>O(h)</code>"
   ]
  },
  {
   "cell_type": "markdown",
   "metadata": {},
   "source": [
    "# 建堆"
   ]
  },
  {
   "cell_type": "markdown",
   "metadata": {},
   "source": [
    "用自底向上的方法利用过程<code>max_heapify</code>把一个数组<code>A</code>转换为最大堆。过程<code>build_max_heap</code>对树中除了叶子节点外的其他节点都调用一次<code>max_heapify</code>。"
   ]
  },
  {
   "cell_type": "code",
   "execution_count": 7,
   "metadata": {},
   "outputs": [
    {
     "name": "stdout",
     "output_type": "stream",
     "text": [
      "[16, 14, 10, 8, 7, 9, 3, 2, 4, 1]\n"
     ]
    }
   ],
   "source": [
    "def build_max_heap(A):\n",
    "    for i in reversed(range(len(A)/2)):\n",
    "        max_heapify(A, i)\n",
    "\n",
    "A = [4,1,3,2,16,9,10,14,8,7]\n",
    "build_max_heap(A)\n",
    "print A"
   ]
  },
  {
   "cell_type": "markdown",
   "metadata": {},
   "source": [
    "![](fig6-3.png)"
   ]
  },
  {
   "cell_type": "markdown",
   "metadata": {},
   "source": [
    "时间复杂度: <code>O(n)</code>"
   ]
  },
  {
   "cell_type": "markdown",
   "metadata": {},
   "source": [
    "# 堆排序算法"
   ]
  },
  {
   "cell_type": "markdown",
   "metadata": {},
   "source": [
    "取出<code>A[1]</code>，用<code>A[n]</code>替换<code>A[1]</code>后对<code>A[1]</code>进行<code>max_heapify</code>过程。"
   ]
  },
  {
   "cell_type": "code",
   "execution_count": 9,
   "metadata": {},
   "outputs": [
    {
     "name": "stdout",
     "output_type": "stream",
     "text": [
      "[16, 14, 10, 9, 8, 7, 4, 3, 2, 1]\n"
     ]
    }
   ],
   "source": [
    "def heap_sort(A):\n",
    "    result = []\n",
    "    build_max_heap(A)\n",
    "    for i in reversed(range(len(A))):\n",
    "        A[0], A[i] = A[i], A[0]\n",
    "        result.append(A.pop())\n",
    "        max_heapify(A, 0)\n",
    "    return result\n",
    "\n",
    "A = [16,14,10,8,7,9,3,2,4,1]\n",
    "print heap_sort(A)"
   ]
  },
  {
   "cell_type": "markdown",
   "metadata": {},
   "source": [
    "![](fig6-4-1.png)\n",
    "![](fig6-4-2.png)"
   ]
  },
  {
   "cell_type": "markdown",
   "metadata": {},
   "source": [
    "时间复杂度: <code>O(nlgn)</code>"
   ]
  },
  {
   "cell_type": "markdown",
   "metadata": {},
   "source": [
    "# 优先队列"
   ]
  },
  {
   "cell_type": "markdown",
   "metadata": {},
   "source": [
    "优先队列是一种用来维护由一组元素构成的集合<code>S</code>的数据结构，其中每一个元素都有一个相关的值，称为关键字(<code>key</code>)。一个最大优先队列支持以下操作：\n",
    "\n",
    "* INSERT(S, x) - 把元素x插入集合S中。\n",
    "* MAXIMUM(S) - 返回S中具有最大关键字的元素。\n",
    "* EXTRACT-MAX(S) - 去掉并返回S中具有最大关键字的元素。\n",
    "* INCREASE-KEY(S,x,k) - 将元素x的关键字增加到k(k>key(x))"
   ]
  },
  {
   "cell_type": "code",
   "execution_count": 10,
   "metadata": {},
   "outputs": [
    {
     "name": "stdout",
     "output_type": "stream",
     "text": [
      "16\n"
     ]
    }
   ],
   "source": [
    "def heap_maximum(A):\n",
    "    return A[0]\n",
    "\n",
    "A = [16,14,10,8,7,9,3,2,4,1]\n",
    "print heap_maximum(A)"
   ]
  },
  {
   "cell_type": "markdown",
   "metadata": {},
   "source": [
    "时间复杂度: <code>O(1)</code>"
   ]
  },
  {
   "cell_type": "code",
   "execution_count": 12,
   "metadata": {},
   "outputs": [
    {
     "name": "stdout",
     "output_type": "stream",
     "text": [
      "16\n",
      "[14, 8, 10, 4, 7, 9, 3, 2, 1]\n"
     ]
    }
   ],
   "source": [
    "def heap_extract_max(A):\n",
    "    A[0], A[-1] = A[-1], A[0]\n",
    "    heap_max = A.pop()\n",
    "    max_heapify(A, 0)\n",
    "    return heap_max\n",
    "\n",
    "A = [16,14,10,8,7,9,3,2,4,1]\n",
    "print heap_extract_max(A)\n",
    "print A"
   ]
  },
  {
   "cell_type": "markdown",
   "metadata": {},
   "source": [
    "时间复杂度: <code>O(lgn)</code>"
   ]
  },
  {
   "cell_type": "code",
   "execution_count": 13,
   "metadata": {},
   "outputs": [
    {
     "name": "stdout",
     "output_type": "stream",
     "text": [
      "[16, 15, 10, 14, 7, 9, 3, 2, 8, 1]\n"
     ]
    }
   ],
   "source": [
    "def heap_increase_key(A, i, key):\n",
    "    if key < A[i]:\n",
    "        return\n",
    "    A[i] = key\n",
    "    while i > 0 and A[parent(i)] < A[i]:\n",
    "        A[i], A[parent(i)] = A[parent(i)], A[i]\n",
    "        i = parent(i)\n",
    "\n",
    "A = [16,14,10,8,7,9,3,2,4,1]\n",
    "heap_increase_key(A, 8, 15)\n",
    "print A"
   ]
  },
  {
   "cell_type": "markdown",
   "metadata": {},
   "source": [
    "![](fig6-5.png)"
   ]
  },
  {
   "cell_type": "markdown",
   "metadata": {},
   "source": [
    "时间复杂度: <code>O(lgn)</code>"
   ]
  },
  {
   "cell_type": "markdown",
   "metadata": {},
   "source": [
    "<code>max_heap_insert</code>首先通过增加一个关键字为-inf的叶节点来扩展最大堆，然后调用<code>heap_increase_key</code>为新节点设置关键字，并维持最大堆的性质。"
   ]
  },
  {
   "cell_type": "code",
   "execution_count": 19,
   "metadata": {},
   "outputs": [
    {
     "name": "stdout",
     "output_type": "stream",
     "text": [
      "[16, 14, 10, 8, 11, 9, 3, 2, 4, 1, 7]\n"
     ]
    }
   ],
   "source": [
    "import numpy as np\n",
    "\n",
    "def max_heap_insert(A, key):\n",
    "    A.append(-np.inf)\n",
    "    heap_increase_key(A, len(A)-1, key)\n",
    "\n",
    "A = [16,14,10,8,7,9,3,2,4,1]\n",
    "max_heap_insert(A, 11)\n",
    "print A"
   ]
  },
  {
   "cell_type": "markdown",
   "metadata": {},
   "source": [
    "时间复杂度: <code>O(lgn)</code>"
   ]
  }
 ],
 "metadata": {
  "kernelspec": {
   "display_name": "Python 2",
   "language": "python",
   "name": "python2"
  },
  "language_info": {
   "codemirror_mode": {
    "name": "ipython",
    "version": 2
   },
   "file_extension": ".py",
   "mimetype": "text/x-python",
   "name": "python",
   "nbconvert_exporter": "python",
   "pygments_lexer": "ipython2",
   "version": "2.7.10"
  }
 },
 "nbformat": 4,
 "nbformat_minor": 2
}
